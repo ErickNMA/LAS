{
 "cells": [
  {
   "cell_type": "markdown",
   "metadata": {},
   "source": [
    "# 💻 Guia de Prática 7 💻"
   ]
  },
  {
   "cell_type": "markdown",
   "metadata": {},
   "source": [
    "### 👉 Passos iniciais:"
   ]
  },
  {
   "cell_type": "code",
   "execution_count": 292,
   "metadata": {},
   "outputs": [],
   "source": [
    "#!/usr/bin/env python3\n",
    "# -*- coding: utf-8 -*-\n",
    "\"\"\"\n",
    "@author: Erick Nathan M. Alves & Victor Sidnei Cotta\n",
    "@data: 16/11/2022\n",
    "\"\"\"\n",
    "\n",
    "\n",
    "\n",
    "#Importando as bibliotecas:\n",
    "import numpy as np # importando biblioteca numpy\n",
    "import matplotlib.pyplot as plt # importando biblioteca para plotar as figuras\n",
    "import control as ct  #importando biblioteca python control systems\n",
    "\n",
    "plt.close('all') #comando para fechar todas janelas de plot\n",
    "\n",
    "#Exibição dos gráficos em janela externa:\n",
    "%matplotlib qt\n",
    "#Exibição dos gráficos em no notebook:\n",
    "#%matplotlib inline\n",
    "\n",
    "\n",
    "\n",
    "#Parâmetros do sistema:\n",
    "La = .154\n",
    "L1 = .155\n",
    "Lt = .270\n",
    "d = .02\n",
    "mt = .005\n",
    "rho = 1.23\n",
    "c = 2.05\n",
    "mi = 5\n",
    "g = 9.81\n",
    "\n",
    "#Constantes do modelo:\n",
    "K1 = ((d*rho*c*La*L1)/(2*mt*(((Lt**2)/12)+(d**2))))\n",
    "K2 = ((g*d)/(((Lt**2)/12)+(d**2)))\n",
    "K3 = ((mi*d**2)/(mt*(((Lt**2)/12)+(d**2))))\n",
    "\n",
    "#Dinâmica do sistema:\n",
    "X0 = [0, 0] #condições iniciais\n",
    "\n",
    "#Caracterizando o modelo, em espaço de estados:\n",
    "def model_update(t, x, u, params):\n",
    "    \n",
    "    x1 = x[0] # posicao\n",
    "    x2 = x[1] # velocidade\n",
    "    M = u[1] # massa variável\n",
    "    u = u[0] # sinal de controle\n",
    "\n",
    "    #Constantes do modelo:\n",
    "    C1 = ((d*rho*c*La*L1)/(2*M*(((Lt**2)/12)+(d**2))))\n",
    "    C2 = ((g*d)/(((Lt**2)/12)+(d**2)))\n",
    "    C3 = ((mi*d**2)/(M*(((Lt**2)/12)+(d**2))))\n",
    "\n",
    "    #Retorna as derivadas:\n",
    "    return [x2, ((C1*(np.cos(x1)**2)*u) - ((C2*np.sin(x1)) + (C3*x2)))]\n",
    "\n",
    "#Função que retorna o estado:\n",
    "def model_output(t, x, u, params):\n",
    "    return x\n",
    "\n",
    "#Instanciando o sistema:\n",
    "fanplate = ct.NonlinearIOSystem(model_update, model_output, states=2, name='fanplate', inputs=('u', 'u_m'), outputs=('x1','x2'))\n",
    "\n",
    "#Definições importantes:\n",
    "pop = 27 #Ponto de operação\n",
    "u_eq = (((K2/K1)*np.sin(np.radians(pop)))/(np.cos(np.radians(pop))**2)) #sinal que leva ao ponto desejado\n",
    "Ad = 5 #amplitude do degrau utilizado na sintonia do controlador\n",
    "ud = (((K2/K1)*np.sin(np.radians(pop+Ad)))/(np.cos(np.radians(pop+Ad))**2)) #sinal usado na sintonia do controlador\n",
    "s = ct.tf('s')"
   ]
  },
  {
   "cell_type": "markdown",
   "metadata": {},
   "source": [
    "### 👉 Item 1:"
   ]
  },
  {
   "cell_type": "markdown",
   "metadata": {},
   "source": [
    "* Definição do atraso de 4s:"
   ]
  },
  {
   "cell_type": "code",
   "execution_count": 293,
   "metadata": {},
   "outputs": [
    {
     "name": "stdout",
     "output_type": "stream",
     "text": [
      "\n",
      " Gd: \t \n",
      "-s^5 + 7.5 s^4 - 26.25 s^3 + 52.5 s^2 - 59.06 s + 29.53\n",
      "-------------------------------------------------------\n",
      "s^5 + 7.5 s^4 + 26.25 s^3 + 52.5 s^2 + 59.06 s + 29.53\n",
      "\n"
     ]
    }
   ],
   "source": [
    "#Duração do atraso:\n",
    "delay = 4\n",
    "#Aproximação de padé:\n",
    "o_p = 5\n",
    "N = ct.pade(delay, o_p)\n",
    "#Função de transferência do atraso:\n",
    "Gd = ct.TransferFunction(np.array(N[0]), np.array(N[1]))\n",
    "print(f'\\n Gd: \\t {Gd}')\n",
    "#Transformando a FT em um sistema de entradas e saídas:\n",
    "atraso = ct.tf2io(Gd, name='atraso', inputs='u', outputs='y')"
   ]
  },
  {
   "cell_type": "markdown",
   "metadata": {},
   "source": [
    "* Obtenção dos controladores P - Ziegler Nichols e PI - CHR, vide Guia 6:"
   ]
  },
  {
   "cell_type": "code",
   "execution_count": 294,
   "metadata": {},
   "outputs": [],
   "source": [
    "#Parâmetros via resposta ao degrau (Guia 6) + atraso de 4 segundos:\n",
    "k = (np.radians(Ad)/(ud-u_eq))\n",
    "theta = delay\n",
    "tau = 1.5212\n",
    "\n",
    "#Controlador P - Ziegler Nichols:\n",
    "Kc_p = (tau/(k*theta))\n",
    "ft_p = ct.tf(Kc_p, 1)\n",
    "sys_p = ct.tf2io(ft_p, name='cp', inputs='u', outputs='y')\n",
    "\n",
    "#Controlador PI - Ziegler Nichols:\n",
    "Kc_pi = ((0.6*tau)/(k*theta))\n",
    "Ti_pi = (4*theta)\n",
    "ft_pi1 = ct.tf(Kc_pi, 1) # PI - Ziegler Nichols (Parte Proporcional)\n",
    "ft_pi2 = (Kc_pi/(Ti_pi*s)) # PI - Ziegler Nichols (Parte Integral)\n",
    "sys_pi1 = ct.tf2io(ft_pi1, name='cpi1', inputs='u', outputs='y')\n",
    "sys_pi2 = ct.tf2io(ft_pi2, name='cpi2', inputs='u', outputs='y')"
   ]
  },
  {
   "cell_type": "markdown",
   "metadata": {},
   "source": [
    "* Condições de simulação para validação em degraus:"
   ]
  },
  {
   "cell_type": "code",
   "execution_count": 295,
   "metadata": {},
   "outputs": [],
   "source": [
    "#Condições iniciais:\n",
    "X0 = np.hstack((np.zeros(o_p), np.radians(pop), 0))\n",
    "#Tempo para alcançar o ponto de operação:\n",
    "top = 200\n",
    "#Array de tempo:\n",
    "t = np.arange(0, top+3200, .01)\n",
    "#Sinal de equilíbrio:\n",
    "u0 = u_eq*np.ones(t.shape)\n",
    "#Massa constante:\n",
    "mc = mt*np.ones(t.shape)\n",
    "#Preparando o sinal de referência:\n",
    "r0 = [0, 1, 0, -1, 0.5, 1, -0.5, 0]\n",
    "tdeg = 400 #duração de cada degrau\n",
    "rs = []\n",
    "rs.append(np.radians(pop)*np.ones(top*100))\n",
    "for i in range(len(r0)):\n",
    "    ri = np.radians(pop+(Ad*r0[i]))\n",
    "    rs.append(ri*np.ones(tdeg*100))\n",
    "r = np.hstack(rs)"
   ]
  },
  {
   "cell_type": "markdown",
   "metadata": {},
   "source": [
    "* Simulação da malha fechada com controlador P - Ziegler Nichols:"
   ]
  },
  {
   "cell_type": "code",
   "execution_count": 296,
   "metadata": {},
   "outputs": [
    {
     "name": "stderr",
     "output_type": "stream",
     "text": [
      "qt.qpa.wayland: Wayland does not support QWindow::requestActivate()\n"
     ]
    }
   ],
   "source": [
    "#Conexão da malha fechada:\n",
    "closed_loop1 = ct.InterconnectedSystem(\n",
    "    (fanplate, atraso, sys_p), name='closed_loop1', \n",
    "    connections=(('cp.u', '-fanplate.x1'), ('atraso.u', 'cp.y'), ('fanplate.u', 'atraso.y')), \n",
    "    inplist=('cp.u', 'atraso.u', 'fanplate.u_m'),\n",
    "    inputs=('xref', 'u0', 'u_m'),\n",
    "    outlist=('fanplate.x1', 'fanplate.x2', 'fanplate.u'),\n",
    "    outputs=('x1', 'x2', 'u')\n",
    ")\n",
    "\n",
    "\n",
    "\n",
    "# Simulando Malha Fechada:\n",
    "t, xout = ct.input_output_response(closed_loop1, t, [r, u0, mc], X0)\n",
    "cp = xout[0]\n",
    "\n",
    "#Plotando o resultado da simulação-------------------------------------------------------------------\n",
    "plt.figure(1)\n",
    "plt.rcParams['figure.figsize'] = (12, 5)\n",
    "plt.subplot(2, 1, 1)\n",
    "plt.plot(t[(top*100):]-top, np.degrees(r[(top*100):]), 'gray', linestyle='dashed', label='Ref')\n",
    "plt.plot(t[(top*100):]-top, np.degrees(cp[(top*100):]),'blue',label='$C_P$')\n",
    "plt.ylabel('$\\\\theta$ [°]')\n",
    "plt.legend(loc='lower right')\n",
    "plt.title('Levando ao ponto de operação: Controlador Proporcional')\n",
    "plt.ylim(20, 35)\n",
    "plt.grid()\n",
    "\n",
    "plt.subplot(2, 1, 2)\n",
    "plt.plot(t[(top*100):]-top, xout[2][(top*100):], 'green', label='$u_{(t)}$')\n",
    "plt.ylabel('$u_{(t)}$')\n",
    "plt.xlabel('Tempo [s]')\n",
    "plt.grid()\n",
    "plt.show()"
   ]
  },
  {
   "cell_type": "markdown",
   "metadata": {},
   "source": [
    "* Simulação da malha fechada com controlador PI - CHR:"
   ]
  },
  {
   "cell_type": "code",
   "execution_count": 297,
   "metadata": {},
   "outputs": [
    {
     "name": "stderr",
     "output_type": "stream",
     "text": [
      "qt.qpa.wayland: Wayland does not support QWindow::requestActivate()\n",
      "qt.qpa.wayland: Wayland does not support QWindow::requestActivate()\n"
     ]
    }
   ],
   "source": [
    "#Conexão da malha fechada:\n",
    "closed_loop2 = ct.InterconnectedSystem(\n",
    "    (fanplate, atraso, sys_pi1, sys_pi2), name='closed_loop2', \n",
    "    connections=(('cpi1.u', '-fanplate.x1'), ('atraso.u', 'cpi1.y'), ('cpi2.u', '-fanplate.x1'), ('atraso.u', 'cpi2.y'), ('fanplate.u', 'atraso.y')), \n",
    "    inplist=('cpi1.u', 'cpi2.u', 'atraso.u', 'fanplate.u_m'),\n",
    "    inputs=('xref1', 'xref2', 'u0', 'u_m'),\n",
    "    outlist=('fanplate.x1', 'fanplate.x2', 'fanplate.u'),\n",
    "    outputs=('x1', 'x2', 'u')\n",
    ")\n",
    "\n",
    "# Simulando Malha Fechada:\n",
    "t, xout = ct.input_output_response(closed_loop2, t, [r, r, u0, mc], X0)\n",
    "cpi = xout[0]\n",
    "\n",
    "#Plotando o resultado da simulação-------------------------------------------------------------------\n",
    "plt.figure(2)\n",
    "plt.rcParams['figure.figsize'] = (12, 5)\n",
    "plt.subplot(2, 1, 1)\n",
    "plt.plot(t[(top*100):]-top, np.degrees(r[(top*100):]), 'gray', linestyle='dashed', label='Ref')\n",
    "plt.plot(t[(top*100):]-top, np.degrees(cpi[(top*100):]),'blue',label='$C_{PI}$')\n",
    "plt.ylabel('$\\\\theta$ [°]')\n",
    "plt.legend(loc='lower right')\n",
    "plt.title('Levando ao ponto de operação: Controlador Proporcional Integral')\n",
    "plt.ylim(20, 35)\n",
    "plt.grid()\n",
    "\n",
    "plt.subplot(2, 1, 2)\n",
    "plt.plot(t[(top*100):]-top, xout[2][(top*100):], 'green', label='$u_{(t)}$')\n",
    "plt.ylabel('$u_{(t)}$')\n",
    "plt.xlabel('Tempo [s]')\n",
    "plt.grid()\n",
    "plt.show()"
   ]
  }
 ],
 "metadata": {
  "kernelspec": {
   "display_name": "Python 3.10.6 64-bit",
   "language": "python",
   "name": "python3"
  },
  "language_info": {
   "codemirror_mode": {
    "name": "ipython",
    "version": 3
   },
   "file_extension": ".py",
   "mimetype": "text/x-python",
   "name": "python",
   "nbconvert_exporter": "python",
   "pygments_lexer": "ipython3",
   "version": "3.10.6"
  },
  "orig_nbformat": 4,
  "vscode": {
   "interpreter": {
    "hash": "916dbcbb3f70747c44a77c7bcd40155683ae19c65e1c03b4aa3499c5328201f1"
   }
  }
 },
 "nbformat": 4,
 "nbformat_minor": 2
}
