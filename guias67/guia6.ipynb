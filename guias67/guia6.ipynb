{
 "cells": [
  {
   "cell_type": "markdown",
   "metadata": {},
   "source": [
    "# 💻 Guia de Prática 6 💻"
   ]
  },
  {
   "cell_type": "markdown",
   "metadata": {},
   "source": [
    "### 👉 Passos iniciais:"
   ]
  },
  {
   "cell_type": "code",
   "execution_count": 204,
   "metadata": {},
   "outputs": [],
   "source": [
    "#!/usr/bin/env python3\n",
    "# -*- coding: utf-8 -*-\n",
    "\"\"\"\n",
    "@author: Erick Nathan M. Alves & Victor Sidnei Cotta\n",
    "@data: 16/11/2022\n",
    "\"\"\"\n",
    "\n",
    "\n",
    "\n",
    "#Importando as bibliotecas:\n",
    "import numpy as np # importando biblioteca numpy\n",
    "import matplotlib.pyplot as plt # importando biblioteca para plotar as figuras\n",
    "import control as ct  #importando biblioteca python control systems\n",
    "\n",
    "plt.close('all') #comando para fechar todas janelas de plot\n",
    "\n",
    "#Exibição dos gráficos em janela externa:\n",
    "%matplotlib qt\n",
    "#Exibição dos gráficos em no notebook:\n",
    "#%matplotlib inline\n",
    "\n",
    "\n",
    "\n",
    "#Parâmetros do sistema:\n",
    "La = .154\n",
    "L1 = .155\n",
    "Lt = .270\n",
    "d = .02\n",
    "m = .005\n",
    "rho = 1.23\n",
    "c = 2.05\n",
    "mi = 5\n",
    "g = 9.81\n",
    "\n",
    "#Constantes do modelo:\n",
    "K1 = ((d*rho*c*La*L1)/(2*m*(((Lt**2)/12)+(d**2))))\n",
    "K2 = ((g*d)/(((Lt**2)/12)+(d**2)))\n",
    "K3 = ((mi*d**2)/(m*(((Lt**2)/12)+(d**2))))\n",
    "\n",
    "#Dinâmica do sistema:\n",
    "X0 = [0, 0] #condições iniciais\n",
    "\n",
    "#Caracterizando o modelo, em espaço de estados:\n",
    "def model_update(t, x, u, params):\n",
    "    \n",
    "    x1 = x[0] # posicao\n",
    "    x2 = x[1] # velocidade\n",
    "\n",
    "    #Retorna as derivadas:\n",
    "    return [x2, ((K1*(np.cos(x1)**2)*u[0]) - ((K2*np.sin(x1)) + (K3*x2)))]\n",
    "\n",
    "#Função que retorna o estado:\n",
    "def model_output(t, x, u, params):\n",
    "    return x\n",
    "\n",
    "#Instanciando o sistema:\n",
    "fanplate = ct.NonlinearIOSystem(model_update, model_output, states=2, name='fanplate', inputs=('u'), outputs=('x1','x2'))"
   ]
  },
  {
   "cell_type": "markdown",
   "metadata": {},
   "source": [
    "### 👉 Item 2:"
   ]
  },
  {
   "cell_type": "markdown",
   "metadata": {},
   "source": [
    "* Levando o sistema ao ponto de operação (27°):"
   ]
  },
  {
   "cell_type": "code",
   "execution_count": 205,
   "metadata": {},
   "outputs": [
    {
     "name": "stderr",
     "output_type": "stream",
     "text": [
      "qt.qpa.wayland: Wayland does not support QWindow::requestActivate()\n"
     ]
    }
   ],
   "source": [
    "#Parâmetros de simulação:\n",
    "t = np.arange(0, 12, .01) #criando array de tempo\n",
    "pop = 27 #Posição de equilíbrio em graus\n",
    "u_eq = (((K2/K1)*np.sin(np.radians(pop)))/(np.cos(np.radians(pop))**2)) #sinal que leva ao ponto desejado\n",
    "u = u_eq*np.ones(t.shape) #criando array com para o sinal\n",
    "\n",
    "#Solucionando o sistema em si:\n",
    "t, x = ct.input_output_response(fanplate, t, u, X0=X0)\n",
    "y = x[0]\n",
    "\n",
    "#Plotando o resultado da simulação-------------------------------------------------------------------\n",
    "plt.figure(1)\n",
    "plt.rcParams['figure.figsize'] = (12, 5)\n",
    "plt.subplot(2, 1, 1)\n",
    "plt.plot(t, np.degrees(y),'red', label='$\\\\theta_{(t)}$')\n",
    "plt.ylabel('$\\\\theta$ [°]')\n",
    "plt.title('Levando o Sistema ao Ponto de Equilíbrio')\n",
    "plt.grid()\n",
    "\n",
    "plt.subplot(2, 1, 2)\n",
    "plt.plot(t, u, 'green', label='$u_{(t)}$')\n",
    "plt.ylabel('$u_{(t)}$')\n",
    "plt.xlabel('Tempo [s]')\n",
    "plt.grid()\n",
    "plt.show()"
   ]
  },
  {
   "cell_type": "markdown",
   "metadata": {},
   "source": [
    "* Aplicação de um degrau de +5° em torno do equilíbrio:"
   ]
  },
  {
   "cell_type": "code",
   "execution_count": 206,
   "metadata": {},
   "outputs": [
    {
     "name": "stderr",
     "output_type": "stream",
     "text": [
      "qt.qpa.wayland: Wayland does not support QWindow::requestActivate()\n",
      "qt.qpa.wayland: Wayland does not support QWindow::requestActivate()\n"
     ]
    }
   ],
   "source": [
    "#Parâmetros de simulação:\n",
    "X0 = [np.radians(27), 0]\n",
    "Ad = 5 #Amplitude do degrau\n",
    "ud = (((K2/K1)*np.sin(np.radians(pop+Ad)))/(np.cos(np.radians(pop+Ad))**2)) #sinal que aplica o degrau\n",
    "td = np.arange(0, 25, .01) #criando array de tempo\n",
    "#Criação do degrau:\n",
    "u = np.hstack(((u_eq*np.ones(100)), (ud*np.ones(1200)), (u_eq*np.ones(1200))))    \n",
    "\n",
    "#Solucionando o sistema em si:\n",
    "td, xd = ct.input_output_response(fanplate, td, u, X0=X0)\n",
    "yd = xd[0]\n",
    "\n",
    "#Plotando o resultado da simulação-------------------------------------------------------------------\n",
    "plt.figure(2)\n",
    "plt.rcParams['figure.figsize'] = (12, 5)\n",
    "plt.rcParams['xtick.labelsize'] = 20\n",
    "plt.rcParams['ytick.labelsize'] = 20\n",
    "plt.subplot(2, 1, 1)\n",
    "plt.plot(td, np.degrees(yd),'red', label='$\\\\theta_{(t)}$')\n",
    "plt.ylabel('$\\\\theta$ [°]')\n",
    "plt.title('Resposta à Entrada em Degrau')\n",
    "plt.grid()\n",
    "\n",
    "plt.subplot(2, 1, 2)\n",
    "plt.plot(td, u, 'green', label='$u_{d_{(t)}}$')\n",
    "plt.ylabel('$u_{d_{(t)}}$')\n",
    "plt.xlabel('Tempo [s]')\n",
    "plt.grid()\n",
    "plt.show()"
   ]
  },
  {
   "cell_type": "markdown",
   "metadata": {},
   "source": [
    "* Obtenção dos parâmetros para modelo de Ziegler-Nichols, por resposta ao degrau positivo (borda de subida):"
   ]
  },
  {
   "cell_type": "code",
   "execution_count": 207,
   "metadata": {},
   "outputs": [
    {
     "name": "stdout",
     "output_type": "stream",
     "text": [
      "\n",
      " Resposta ao degrau (+5°): \tA = 1\t B = 1.9606\t C = 2.5212\n"
     ]
    },
    {
     "name": "stderr",
     "output_type": "stream",
     "text": [
      "qt.qpa.wayland: Wayland does not support QWindow::requestActivate()\n",
      "qt.qpa.wayland: Wayland does not support QWindow::requestActivate()\n",
      "qt.qpa.wayland: Wayland does not support QWindow::requestActivate()\n"
     ]
    }
   ],
   "source": [
    "#Equilíbrio:\n",
    "y0 = (pop*np.ones(td.shape))\n",
    "\n",
    "#Reta tangente:\n",
    "coef_ang = 3.3\n",
    "coef_lin = 23.68\n",
    "y1 = (coef_ang*td + coef_lin) #ajustada graficamente\n",
    "\n",
    "#Atraso / tempo morto / fase:\n",
    "A = 1 #obtido graficamente (há uma antecipação que não existe, o atraso é zero aqui, portanto o tempo morto também é zero)!!!!!!!!!!!!!!!\n",
    "\n",
    "#Reta 0,63K:\n",
    "y2 = ((pop+(0.63*Ad))*np.ones(td.shape))\n",
    "B = (((pop+(0.63*Ad))-coef_lin)/coef_ang)\n",
    "\n",
    "#Reta K:\n",
    "y3 = ((pop+Ad)*np.ones(td.shape))\n",
    "C = (((pop+Ad)-coef_lin)/coef_ang)\n",
    "\n",
    "print(\"\\n Resposta ao degrau (+5°): \\tA = \" + str(round(A, 4)) + \"\\t B = \" + str(round(B, 4)) + \"\\t C = \" + str(round(C, 4)))\n",
    "\n",
    "#Plotando o resultado da simulação-------------------------------------------------------------------\n",
    "plt.figure(3)\n",
    "plt.rcParams['figure.figsize'] = (12, 5)\n",
    "plt.plot(td, np.degrees(yd),'red',label='$\\\\theta_{(t)}$')\n",
    "plt.plot(td, y0,'black',label='Equilíbrio')\n",
    "plt.plot(td, y1,'pink',label='Tangente')\n",
    "plt.plot(td, y2,'yellow',ls='--',label='0,63k')\n",
    "plt.plot(td, y3,'blue',ls='--',label='k')\n",
    "plt.scatter(A, pop, c='orange', linewidths=3, label='A')\n",
    "plt.scatter(B, (pop+(0.63*Ad)), c='purple', linewidths=3, label='B')\n",
    "plt.scatter(C, (pop+Ad), c='green', linewidths=3, label='C')\n",
    "plt.ylabel('$\\\\theta$ [°]')\n",
    "plt.xlabel('Tempo [s]')\n",
    "plt.xlim(0, 10)\n",
    "plt.legend(loc='lower right')\n",
    "plt.ylim(26.9, 32.2)\n",
    "plt.title('Resposta ao degrau com 3 parâmetros (+5°)')\n",
    "plt.grid()\n",
    "plt.show()"
   ]
  },
  {
   "cell_type": "markdown",
   "metadata": {},
   "source": [
    "* Validação do modelo:"
   ]
  },
  {
   "cell_type": "code",
   "execution_count": 208,
   "metadata": {},
   "outputs": [
    {
     "name": "stdout",
     "output_type": "stream",
     "text": [
      "\n",
      " tau: \t 1.5212\n",
      "\n",
      "G: \n",
      "  0.3245\n",
      "-----------\n",
      "1.521 s + 1\n",
      "\n"
     ]
    },
    {
     "name": "stderr",
     "output_type": "stream",
     "text": [
      "qt.qpa.wayland: Wayland does not support QWindow::requestActivate()\n",
      "qt.qpa.wayland: Wayland does not support QWindow::requestActivate()\n",
      "qt.qpa.wayland: Wayland does not support QWindow::requestActivate()\n",
      "qt.qpa.wayland: Wayland does not support QWindow::requestActivate()\n"
     ]
    }
   ],
   "source": [
    "#Resposta ao degrau:\n",
    "tau = (C-A)\n",
    "print(f'\\n tau: \\t {round(tau, 4)}')\n",
    "theta = 0\n",
    "def sd(t, k, tau, theta):\n",
    "    return (k*(1-np.exp((theta-t)/tau)))\n",
    "\n",
    "#Criação de degraus:\n",
    "udeg = []\n",
    "kdeg = [-3, 3, -5, 8, 5]\n",
    "for i in range(len(kdeg)):\n",
    "    udeg.append((((K2/K1)*np.sin(np.radians(pop+kdeg[i])))/(np.cos(np.radians(pop+kdeg[i]))**2))*np.ones(1200))\n",
    "uv = np.hstack(udeg)\n",
    "\n",
    "tv = np.arange(0, 60, .01)\n",
    "\n",
    "ysv = np.hstack(((pop+sd(tv[:1200], -3, tau, theta)), ((pop+kdeg[0])+sd(tv[:1200], 6, tau, theta)), ((pop+kdeg[1])+sd(tv[:1200], -8, tau, theta)), ((pop+kdeg[2])+sd(tv[:1200], 13, tau, theta)), ((pop+kdeg[3])+sd(tv[:1200], -3, tau, theta))))\n",
    "\n",
    "#Parâmetros de simulação:\n",
    "X0 = [np.radians(pop), 0]\n",
    "\n",
    "#Solucionando o sistema em si:\n",
    "tv, xv = ct.input_output_response(fanplate, tv, uv, X0=X0)\n",
    "yv = np.degrees(xv[0])\n",
    "\n",
    "#Função de transferência para um sistema de primeira ordem superamortecido:\n",
    "s = ct.tf('s')\n",
    "K = (np.radians(Ad)/(ud-u_eq)) #ganho estático do sistema\n",
    "G = (K/((tau*s)+1))\n",
    "print('\\nG: ' + str(G))\n",
    "\n",
    "tv, xft = ct.forced_response(G, T=tv, U=(uv-u_eq))\n",
    "yft = (np.degrees(xft)+pop)\n",
    "\n",
    "#Plotando o resultado da simulação-------------------------------------------------------------------\n",
    "plt.figure(4)\n",
    "plt.rcParams['figure.figsize'] = (12, 5)\n",
    "plt.plot(tv, yv, 'red', label='Dinâmica do sistema')\n",
    "plt.plot(tv, ysv,'green',label='Resposta Temporal Bibliográfica')\n",
    "plt.plot(tv, yft,'blue',label='Resposta Forçada da FT Obtida')\n",
    "plt.ylabel('$\\\\theta$ [°]')\n",
    "plt.xlabel('Tempo [s]')\n",
    "#plt.xlim(350, tf)\n",
    "plt.legend()\n",
    "#plt.ylim(70, 90)\n",
    "plt.title('Validação do Modelo Obtido')\n",
    "plt.grid()\n",
    "plt.show()"
   ]
  },
  {
   "cell_type": "markdown",
   "metadata": {},
   "source": [
    "### 👉 Item 3:"
   ]
  },
  {
   "cell_type": "markdown",
   "metadata": {},
   "source": [
    "* Inclusão do atraso ao modelo obtido:"
   ]
  },
  {
   "cell_type": "code",
   "execution_count": 209,
   "metadata": {},
   "outputs": [
    {
     "name": "stderr",
     "output_type": "stream",
     "text": [
      "qt.qpa.wayland: Wayland does not support QWindow::requestActivate()\n",
      "qt.qpa.wayland: Wayland does not support QWindow::requestActivate()\n",
      "qt.qpa.wayland: Wayland does not support QWindow::requestActivate()\n",
      "qt.qpa.wayland: Wayland does not support QWindow::requestActivate()\n",
      "qt.qpa.wayland: Wayland does not support QWindow::requestActivate()\n"
     ]
    }
   ],
   "source": [
    "theta = 0.15\n",
    "\n",
    "td1 = np.arange(0, 60, .01)\n",
    "\n",
    "yd1 = np.hstack(((pop+sd(tv[:1200], -3, tau, theta)), ((pop+kdeg[0])+sd(tv[:1200], 6, tau, theta)), ((pop+kdeg[1])+sd(tv[:1200], -8, tau, theta)), ((pop+kdeg[2])+sd(tv[:1200], 13, tau, theta)), ((pop+kdeg[3])+sd(tv[:1200], -3, tau, theta))))\n",
    "\n",
    "#Parâmetros de simulação:\n",
    "X0 = [np.radians(pop), 0]\n",
    "\n",
    "#Plotando o resultado da simulação-------------------------------------------------------------------\n",
    "plt.figure(5)\n",
    "plt.rcParams['figure.figsize'] = (12, 5)\n",
    "plt.plot(tv, yv, 'red', label='Resposta em Malha Aberta')\n",
    "plt.plot(tv, yd1,'blue',label='Reposta com atraso de 0.15s')\n",
    "plt.ylabel('$\\\\theta$ [°]')\n",
    "plt.xlabel('Tempo [s]')\n",
    "plt.legend()\n",
    "plt.title('Inserção de atraso ao modelo')\n",
    "plt.grid()\n",
    "plt.show()"
   ]
  },
  {
   "cell_type": "markdown",
   "metadata": {},
   "source": [
    "### 👉 Itens 4 e 5:"
   ]
  },
  {
   "cell_type": "markdown",
   "metadata": {},
   "source": [
    "* Incluindo atraso por aproximação de Padé (ordens: 1, 3, 5 e 9):"
   ]
  },
  {
   "cell_type": "code",
   "execution_count": 210,
   "metadata": {},
   "outputs": [
    {
     "name": "stdout",
     "output_type": "stream",
     "text": [
      "\n",
      " Gd1: \t \n",
      "-s + 13.33\n",
      "----------\n",
      "s + 13.33\n",
      "\n",
      "\n",
      " Gd3: \t \n",
      "-s^3 + 80 s^2 - 2667 s + 3.556e+04\n",
      "----------------------------------\n",
      "s^3 + 80 s^2 + 2667 s + 3.556e+04\n",
      "\n",
      "\n",
      " Gd5: \t \n",
      "-s^5 + 200 s^4 - 1.867e+04 s^3 + 9.956e+05 s^2 - 2.987e+07 s + 3.982e+08\n",
      "------------------------------------------------------------------------\n",
      "s^5 + 200 s^4 + 1.867e+04 s^3 + 9.956e+05 s^2 + 2.987e+07 s + 3.982e+08\n",
      "\n",
      "\n",
      " Gd9: \t \n",
      "-s^9 + 600 s^8 - 1.76e+05 s^7 + 3.285e+07 s^6 - 4.271e+09 s^5 + 3.986e+11 s^4 - 2.657e+13 s^3 + 1.215e+15 s^2 - 3.442e+16 s + 4.589e+17\n",
      "---------------------------------------------------------------------------------------------------------------------------------------\n",
      "s^9 + 600 s^8 + 1.76e+05 s^7 + 3.285e+07 s^6 + 4.271e+09 s^5 + 3.986e+11 s^4 + 2.657e+13 s^3 + 1.215e+15 s^2 + 3.442e+16 s + 4.589e+17\n",
      "\n"
     ]
    }
   ],
   "source": [
    "#Funções de transferência das ordens especificadas:\n",
    "Gd = []\n",
    "o_p = [1, 3, 5, 9]\n",
    "for i in range(len(o_p)):\n",
    "    #Aproximação de padé:\n",
    "    N = ct.pade(0.15, o_p[i])\n",
    "    #Função de transferência do atraso:\n",
    "    Gd.append(ct.TransferFunction(np.array(N[0]), np.array(N[1])))\n",
    "    print(f'\\n Gd{o_p[i]}: \\t {Gd[i]}')"
   ]
  },
  {
   "cell_type": "markdown",
   "metadata": {},
   "source": [
    "### 👉 Item 6:"
   ]
  },
  {
   "cell_type": "markdown",
   "metadata": {},
   "source": [
    "* Simulação do sistema com atraso:"
   ]
  },
  {
   "cell_type": "code",
   "execution_count": 211,
   "metadata": {},
   "outputs": [
    {
     "name": "stderr",
     "output_type": "stream",
     "text": [
      "qt.qpa.wayland: Wayland does not support QWindow::requestActivate()\n",
      "qt.qpa.wayland: Wayland does not support QWindow::requestActivate()\n",
      "qt.qpa.wayland: Wayland does not support QWindow::requestActivate()\n",
      "qt.qpa.wayland: Wayland does not support QWindow::requestActivate()\n",
      "qt.qpa.wayland: Wayland does not support QWindow::requestActivate()\n",
      "qt.qpa.wayland: Wayland does not support QWindow::requestActivate()\n"
     ]
    }
   ],
   "source": [
    "y_malha = []\n",
    "u = u_eq*np.ones(t.shape) #criando array com para o sinal\n",
    "for i in range(4):\n",
    "    atraso = ct.tf2io(Gd[i], name='atraso', inputs='u', outputs='y')\n",
    "    malha = ct.InterconnectedSystem(\n",
    "        (atraso, fanplate), name='malha', \n",
    "        connections=(('atraso.u',), ('fanplate.u', 'atraso.y')), \n",
    "        inplist=('atraso.u'),\n",
    "        outlist=('fanplate.x1', 'fanplate.x2')\n",
    "    )\n",
    "    X0 = np.zeros(o_p[i]+2)\n",
    "\n",
    "    t, ym = ct.input_output_response(malha, t, u, X0)\n",
    "    y_malha.append(ym[0])\n",
    "\n",
    "#Parâmetros de simulação:\n",
    "X0 = [0, 0]\n",
    "tn = np.arange(0, 12, .01) #criando array de tempo\n",
    "u = u_eq*np.ones(t.shape) #criando array com para o sinal\n",
    "\n",
    "#Solucionando o sistema em si:\n",
    "tn, x = ct.input_output_response(fanplate, tn, u, X0=X0)\n",
    "y = x[0]\n",
    "\n",
    "#Plotando o resultado da simulação-------------------------------------------------------------------\n",
    "plt.figure(6)\n",
    "plt.rcParams['figure.figsize'] = (12, 5)\n",
    "plt.plot(tn, np.degrees(y), 'pink', label='Sem atraso')\n",
    "plt.plot(t, np.degrees(y_malha[0]), 'red', label='Padé 1ª ordem')\n",
    "plt.plot(t, np.degrees(y_malha[1]),'green',label='Padé 3ª ordem')\n",
    "plt.plot(t, np.degrees(y_malha[2]),'blue',label='Padé 5ª ordem')\n",
    "plt.plot(t, np.degrees(y_malha[3]),'yellow',label='Padé 9ª ordem')\n",
    "plt.ylabel('$\\\\theta$ [°]')\n",
    "plt.xlabel('Tempo [s]')\n",
    "plt.legend(loc='lower right')\n",
    "plt.title('Comparação das aproximações por Padé')\n",
    "plt.grid()\n",
    "plt.show()\n"
   ]
  },
  {
   "cell_type": "markdown",
   "metadata": {},
   "source": [
    "### 👉 Item 7:"
   ]
  },
  {
   "cell_type": "markdown",
   "metadata": {},
   "source": [
    "* Comparação resposta ao degrau com atraso, por aproximação de Padé de 5ª ordem:"
   ]
  },
  {
   "cell_type": "code",
   "execution_count": 212,
   "metadata": {},
   "outputs": [
    {
     "name": "stderr",
     "output_type": "stream",
     "text": [
      "qt.qpa.wayland: Wayland does not support QWindow::requestActivate()\n",
      "qt.qpa.wayland: Wayland does not support QWindow::requestActivate()\n",
      "qt.qpa.wayland: Wayland does not support QWindow::requestActivate()\n",
      "qt.qpa.wayland: Wayland does not support QWindow::requestActivate()\n",
      "qt.qpa.wayland: Wayland does not support QWindow::requestActivate()\n",
      "qt.qpa.wayland: Wayland does not support QWindow::requestActivate()\n",
      "qt.qpa.wayland: Wayland does not support QWindow::requestActivate()\n"
     ]
    }
   ],
   "source": [
    "#Parâmetros de simulação:\n",
    "X0 = [np.radians(pop), 0]\n",
    "\n",
    "#Criação do degrau:\n",
    "u = np.hstack(((ud*np.ones(1200)), (u_eq*np.ones(1200)))) \n",
    "t = np.arange(0, 24, .01) #criando array de tempo\n",
    "\n",
    "#Solucionando o sistema em si:\n",
    "t, xdeg = ct.input_output_response(fanplate, t, u, X0=X0)\n",
    "ydeg = xdeg[0]\n",
    "\n",
    "atraso = ct.tf2io(Gd[2], name='atraso', inputs='u', outputs='y')\n",
    "malha = ct.InterconnectedSystem(\n",
    "    (atraso, fanplate), name='malha', \n",
    "    connections=(('atraso.u',), ('fanplate.u', 'atraso.y')), \n",
    "    inplist=('atraso.u'),\n",
    "    outlist=('fanplate.x1', 'fanplate.x2')\n",
    ")\n",
    "X0 = np.array([0, 0, 0, 0, 0, np.radians(pop), 0])\n",
    "\n",
    "t, xm = ct.input_output_response(malha, t, u, X0)\n",
    "y_md = xm[0]\n",
    "\n",
    "#Plotando o resultado da simulação-------------------------------------------------------------------\n",
    "plt.figure(7)\n",
    "plt.rcParams['figure.figsize'] = (12, 5)\n",
    "plt.plot(t, np.degrees(ydeg), 'red', label='Resposta em Malha Aberta')\n",
    "plt.plot(t, np.degrees(y_md),'blue',label='Resposta em atraso de 0.15s (Padé de 5ª ordem)')\n",
    "plt.ylabel('$\\\\theta$ [°]')\n",
    "plt.xlabel('Tempo [s]')\n",
    "plt.legend(loc='lower right')\n",
    "plt.title('Comparação com atraso à resposta ao degrau')\n",
    "plt.grid()\n",
    "plt.show()"
   ]
  },
  {
   "cell_type": "markdown",
   "metadata": {},
   "source": [
    "### 👉 Item 8:"
   ]
  },
  {
   "cell_type": "markdown",
   "metadata": {},
   "source": [
    "* Controlador Proporcional - Ziegler Nichols:"
   ]
  },
  {
   "cell_type": "code",
   "execution_count": 213,
   "metadata": {},
   "outputs": [
    {
     "name": "stdout",
     "output_type": "stream",
     "text": [
      "\n",
      "Kc: \t 31.249\n"
     ]
    }
   ],
   "source": [
    "# Constantes via parâmetros de Ziegler Nichols - Tabelas 8.6 e 8.7 (Garcia, 2017):\n",
    "kd = (np.radians(Ad)/(ud-u_eq))\n",
    "Kc_pzn = (tau/(kd*theta))\n",
    "print(f'\\nKc: \\t {round(Kc_pzn, 4)}')\n"
   ]
  },
  {
   "cell_type": "markdown",
   "metadata": {},
   "source": [
    "* Controlador Proporcional - CHR:"
   ]
  },
  {
   "cell_type": "code",
   "execution_count": 214,
   "metadata": {},
   "outputs": [
    {
     "name": "stdout",
     "output_type": "stream",
     "text": [
      "\n",
      "Kc: \t 9.3747\n"
     ]
    }
   ],
   "source": [
    "# Constantes via parâmetros de CHR - Tabela 8.9 (Garcia, 2017):\n",
    "Kc_pchr = ((0.3*tau)/(kd*theta))\n",
    "print(f'\\nKc: \\t {round(Kc_pchr, 4)}')"
   ]
  },
  {
   "cell_type": "markdown",
   "metadata": {},
   "source": [
    "* Controlador Proporcional Integral - Ziegler Nichols:"
   ]
  },
  {
   "cell_type": "code",
   "execution_count": 215,
   "metadata": {},
   "outputs": [
    {
     "name": "stdout",
     "output_type": "stream",
     "text": [
      "\n",
      "Kc: \t 28.1241\n",
      "\n",
      "Ti: \t 0.5\n"
     ]
    }
   ],
   "source": [
    "# Constantes via parâmetros de Ziegler Nichols - Tabelas 8.6 e 8.7 (Garcia, 2017):\n",
    "Kc_pizn = ((0.9*tau)/(kd*theta))\n",
    "Ti_pizn = ((10*theta)/3)\n",
    "print(f'\\nKc: \\t {round(Kc_pizn, 4)}')\n",
    "print(f'\\nTi: \\t {round(Ti_pizn, 4)}')"
   ]
  },
  {
   "cell_type": "markdown",
   "metadata": {},
   "source": [
    "* Controlador Proporcional Integral - CHR:"
   ]
  },
  {
   "cell_type": "code",
   "execution_count": 216,
   "metadata": {},
   "outputs": [
    {
     "name": "stdout",
     "output_type": "stream",
     "text": [
      "\n",
      "Kc: \t 18.7494\n",
      "\n",
      "Ti: \t 0.6\n"
     ]
    }
   ],
   "source": [
    "# Constantes via parâmetros de CHR - Tabela 8.9 (Garcia, 2017):\n",
    "Kc_pichr = ((0.6*tau)/(kd*theta))\n",
    "Ti_pichr = (4*theta)\n",
    "print(f'\\nKc: \\t {round(Kc_pichr, 4)}')\n",
    "print(f'\\nTi: \\t {round(Ti_pichr, 4)}')"
   ]
  },
  {
   "cell_type": "markdown",
   "metadata": {},
   "source": [
    "### 👉 Item 10:"
   ]
  },
  {
   "cell_type": "markdown",
   "metadata": {},
   "source": [
    "* Preparando respostas das malhas para r = [0 1 0 −1 0.5 1 −0.5 0]:"
   ]
  },
  {
   "cell_type": "code",
   "execution_count": 217,
   "metadata": {},
   "outputs": [],
   "source": [
    "#Array de tempo:\n",
    "t = np.arange(0, 64, .01)\n",
    "\n",
    "#Preparando o sinal de referência:\n",
    "r0 = [0, 1, 0, -1, 0.5, 1, -0.5, 0]\n",
    "rs = []\n",
    "us = []\n",
    "for i in range(len(r0)):\n",
    "    ri = np.radians(pop+(Ad*r0[i]))\n",
    "    rs.append(ri*np.ones(800))\n",
    "    us.append((((K2/K1)*np.sin(ri))/(np.cos(ri)**2))*np.ones(800))\n",
    "r = np.hstack(rs)\n",
    "u = np.hstack(us)\n",
    "\n",
    "#Preparando o sinal de controle de operação:\n",
    "u0 = u_eq*np.ones(t.shape)\n",
    "\n",
    "#Preparando os controladores:\n",
    "\n",
    "#Definição das funções de transferência:\n",
    "ft_pzn = ct.tf(Kc_pzn, 1) # P - Ziegler Nichols\n",
    "ft_pchr = ct.tf(Kc_pchr, 1) # P - CHR\n",
    "ft_pizn1 = ct.tf(Kc_pizn, 1) # PI - Ziegler Nichols (Parte Proporcional)\n",
    "ft_pizn2 = (Ti_pizn/s) # PI - Ziegler Nichols (Parte Integral)\n",
    "ft_pichr1 = ct.tf(Kc_pichr, 1) # PI - CHR (Parte Proporcional)\n",
    "ft_pichr2 = (Ti_pichr/s) # PI - CHR (Parte Integral)\n",
    "\n",
    "#Definindo os subsistemas em formato de entradas e saídas:\n",
    "sys_pzn = ct.tf2io(ft_pzn, name='pzn', inputs='u', outputs='y')\n",
    "sys_pchr = ct.tf2io(ft_pchr, name='pchr', inputs='u', outputs='y')\n",
    "sys_pizn1 = ct.tf2io(ft_pizn1, name='pizn1', inputs='u', outputs='y')\n",
    "sys_pizn2 = ct.tf2io(ft_pizn2, name='pizn2', inputs='u', outputs='y')\n",
    "sys_pichr1 = ct.tf2io(ft_pichr1, name='pichr1', inputs='u', outputs='y')\n",
    "sys_pichr2 = ct.tf2io(ft_pichr2, name='pichr2', inputs='u', outputs='y')\n",
    "\n",
    "# Atraso:\n",
    "atraso = ct.tf2io(Gd[-2], name='atraso', inputs='u', outputs='y')\n",
    "\n",
    "# Malha aberta:\n",
    "X0 = [np.radians(pop), 0]\n",
    "t, xout = ct.input_output_response(fanplate, t, u, X0)\n",
    "ma = xout[0]\n"
   ]
  },
  {
   "cell_type": "markdown",
   "metadata": {},
   "source": [
    "* Controlador Proporcional - Ziegler Nichols:"
   ]
  },
  {
   "cell_type": "code",
   "execution_count": 218,
   "metadata": {},
   "outputs": [
    {
     "name": "stderr",
     "output_type": "stream",
     "text": [
      "qt.qpa.wayland: Wayland does not support QWindow::requestActivate()\n",
      "qt.qpa.wayland: Wayland does not support QWindow::requestActivate()\n",
      "qt.qpa.wayland: Wayland does not support QWindow::requestActivate()\n",
      "qt.qpa.wayland: Wayland does not support QWindow::requestActivate()\n",
      "qt.qpa.wayland: Wayland does not support QWindow::requestActivate()\n",
      "qt.qpa.wayland: Wayland does not support QWindow::requestActivate()\n",
      "qt.qpa.wayland: Wayland does not support QWindow::requestActivate()\n",
      "qt.qpa.wayland: Wayland does not support QWindow::requestActivate()\n"
     ]
    }
   ],
   "source": [
    "#Conexão da malha fechada:\n",
    "closed_loop1 = ct.InterconnectedSystem(\n",
    "    (fanplate, atraso, sys_pzn), name='closed_loop1', \n",
    "    connections=(('pzn.u', '-fanplate.x1'), ('atraso.u', 'pzn.y'), ('fanplate.u', 'atraso.y')), \n",
    "    inplist=('pzn.u', 'atraso.u'),\n",
    "    inputs=('xref', 'u0'),\n",
    "    outlist=('fanplate.x1', 'fanplate.x2', 'fanplate.u'),\n",
    "    outputs=('x1', 'x2', 'u')\n",
    ")\n",
    "\n",
    "# Simulando Malha Fechada:\n",
    "X0 = np.zeros(7)\n",
    "t, xout = ct.input_output_response(closed_loop1, t, [r, u0], X0)\n",
    "cpzn = xout[0]\n",
    "\n",
    "#Plotando o resultado da simulação-------------------------------------------------------------------\n",
    "plt.figure(8)\n",
    "plt.rcParams['figure.figsize'] = (12, 5)\n",
    "plt.subplot(2, 1, 1)\n",
    "plt.plot(t, np.degrees(ma), 'red', label='MA')\n",
    "plt.plot(t, np.degrees(cpzn),'blue',label='PZN')\n",
    "plt.ylabel('$\\\\theta$ [°]')\n",
    "plt.legend(loc='lower right')\n",
    "plt.ylim(18, 35)\n",
    "plt.title('Malha Aberta X Controlador P - Ziegler Nichols')\n",
    "plt.grid()\n",
    "\n",
    "plt.subplot(2, 1, 2)\n",
    "plt.plot(t, xout[2], 'green', label='$u_{(t)}$')\n",
    "plt.ylabel('$u_{(t)}$')\n",
    "plt.xlabel('Tempo [s]')\n",
    "plt.grid()\n",
    "plt.show()\n"
   ]
  },
  {
   "cell_type": "markdown",
   "metadata": {},
   "source": [
    "* Controlador Proporcional - CHR:"
   ]
  },
  {
   "cell_type": "code",
   "execution_count": 219,
   "metadata": {},
   "outputs": [
    {
     "name": "stderr",
     "output_type": "stream",
     "text": [
      "qt.qpa.wayland: Wayland does not support QWindow::requestActivate()\n",
      "qt.qpa.wayland: Wayland does not support QWindow::requestActivate()\n",
      "qt.qpa.wayland: Wayland does not support QWindow::requestActivate()\n",
      "qt.qpa.wayland: Wayland does not support QWindow::requestActivate()\n",
      "qt.qpa.wayland: Wayland does not support QWindow::requestActivate()\n",
      "qt.qpa.wayland: Wayland does not support QWindow::requestActivate()\n",
      "qt.qpa.wayland: Wayland does not support QWindow::requestActivate()\n",
      "qt.qpa.wayland: Wayland does not support QWindow::requestActivate()\n",
      "qt.qpa.wayland: Wayland does not support QWindow::requestActivate()\n"
     ]
    }
   ],
   "source": [
    "#Conexão da malha fechada:\n",
    "closed_loop2 = ct.InterconnectedSystem(\n",
    "    (fanplate, atraso, sys_pchr), name='closed_loop2', \n",
    "    connections=(('pchr.u', '-fanplate.x1'), ('atraso.u', 'pchr.y'), ('fanplate.u', 'atraso.y')), \n",
    "    inplist=('pchr.u', 'atraso.u'),\n",
    "    inputs=('xref', 'u0'),\n",
    "    outlist=('fanplate.x1', 'fanplate.x2', 'fanplate.u'),\n",
    "    outputs=('x1', 'x2', 'u')\n",
    ")\n",
    "\n",
    "# Simulando Malha Fechada:\n",
    "X0 = np.zeros(7)\n",
    "t, xout = ct.input_output_response(closed_loop2, t, [r, u0], X0)\n",
    "cpchr = xout[0]\n",
    "\n",
    "#Plotando o resultado da simulação-------------------------------------------------------------------\n",
    "plt.figure(9)\n",
    "plt.rcParams['figure.figsize'] = (12, 5)\n",
    "plt.subplot(2, 1, 1)\n",
    "plt.plot(t, np.degrees(ma), 'red', label='MA')\n",
    "plt.plot(t, np.degrees(cpchr),'blue',label='PCHR')\n",
    "plt.ylabel('$\\\\theta$ [°]')\n",
    "plt.legend(loc='lower right')\n",
    "plt.ylim(18, 35)\n",
    "plt.title('Malha Aberta X Controlador P - CHR')\n",
    "plt.grid()\n",
    "\n",
    "plt.subplot(2, 1, 2)\n",
    "plt.plot(t, xout[2], 'green', label='$u_{(t)}$')\n",
    "plt.ylabel('$u_{(t)}$')\n",
    "plt.xlabel('Tempo [s]')\n",
    "plt.grid()\n",
    "plt.show()"
   ]
  },
  {
   "cell_type": "markdown",
   "metadata": {},
   "source": [
    "* Controlador Proporcional Integral - Ziegler Nichols:"
   ]
  },
  {
   "cell_type": "code",
   "execution_count": 220,
   "metadata": {},
   "outputs": [
    {
     "name": "stderr",
     "output_type": "stream",
     "text": [
      "qt.qpa.wayland: Wayland does not support QWindow::requestActivate()\n",
      "qt.qpa.wayland: Wayland does not support QWindow::requestActivate()\n",
      "qt.qpa.wayland: Wayland does not support QWindow::requestActivate()\n",
      "qt.qpa.wayland: Wayland does not support QWindow::requestActivate()\n",
      "qt.qpa.wayland: Wayland does not support QWindow::requestActivate()\n",
      "qt.qpa.wayland: Wayland does not support QWindow::requestActivate()\n",
      "qt.qpa.wayland: Wayland does not support QWindow::requestActivate()\n",
      "qt.qpa.wayland: Wayland does not support QWindow::requestActivate()\n",
      "qt.qpa.wayland: Wayland does not support QWindow::requestActivate()\n",
      "qt.qpa.wayland: Wayland does not support QWindow::requestActivate()\n"
     ]
    }
   ],
   "source": [
    "#Conexão da malha fechada:\n",
    "closed_loop3 = ct.InterconnectedSystem(\n",
    "    (fanplate, atraso, sys_pizn1, sys_pizn2), name='closed_loop3', \n",
    "    connections=(('pizn1.u', '-fanplate.x1'), ('atraso.u', 'pizn1.y'), ('pizn2.u', '-fanplate.x1'), ('atraso.u', 'pizn2.y'), ('fanplate.u', 'atraso.y')), \n",
    "    inplist=('pizn1.u', 'pizn2.u', 'atraso.u'),\n",
    "    inputs=('xref1', 'xref2', 'u0'),\n",
    "    outlist=('fanplate.x1', 'fanplate.x2', 'fanplate.u'),\n",
    "    outputs=('x1', 'x2', 'u')\n",
    ")\n",
    "\n",
    "# Simulando Malha Fechada:\n",
    "X0 = np.zeros(7)\n",
    "t, xout = ct.input_output_response(closed_loop3, t, [r, r, u0], X0)\n",
    "cpizn = xout[0]\n",
    "\n",
    "#Plotando o resultado da simulação-------------------------------------------------------------------\n",
    "plt.figure(10)\n",
    "plt.rcParams['figure.figsize'] = (12, 5)\n",
    "plt.subplot(2, 1, 1)\n",
    "plt.plot(t, np.degrees(ma), 'red', label='MA')\n",
    "plt.plot(t, np.degrees(cpizn),'blue',label='PCHR')\n",
    "plt.ylabel('$\\\\theta$ [°]')\n",
    "plt.legend(loc='lower right')\n",
    "plt.ylim(18, 35)\n",
    "plt.title('Malha Aberta X Controlador PI - Ziegler Nichols')\n",
    "plt.grid()\n",
    "\n",
    "plt.subplot(2, 1, 2)\n",
    "plt.plot(t, xout[2], 'green', label='$u_{(t)}$')\n",
    "plt.ylabel('$u_{(t)}$')\n",
    "plt.xlabel('Tempo [s]')\n",
    "plt.grid()\n",
    "plt.show()"
   ]
  },
  {
   "cell_type": "markdown",
   "metadata": {},
   "source": [
    "* Controlador Proporcional Integral - CHR:"
   ]
  },
  {
   "cell_type": "code",
   "execution_count": 221,
   "metadata": {},
   "outputs": [
    {
     "name": "stderr",
     "output_type": "stream",
     "text": [
      "qt.qpa.wayland: Wayland does not support QWindow::requestActivate()\n",
      "qt.qpa.wayland: Wayland does not support QWindow::requestActivate()\n",
      "qt.qpa.wayland: Wayland does not support QWindow::requestActivate()\n",
      "qt.qpa.wayland: Wayland does not support QWindow::requestActivate()\n",
      "qt.qpa.wayland: Wayland does not support QWindow::requestActivate()\n",
      "qt.qpa.wayland: Wayland does not support QWindow::requestActivate()\n",
      "qt.qpa.wayland: Wayland does not support QWindow::requestActivate()\n",
      "qt.qpa.wayland: Wayland does not support QWindow::requestActivate()\n",
      "qt.qpa.wayland: Wayland does not support QWindow::requestActivate()\n",
      "qt.qpa.wayland: Wayland does not support QWindow::requestActivate()\n",
      "qt.qpa.wayland: Wayland does not support QWindow::requestActivate()\n"
     ]
    }
   ],
   "source": [
    "#Conexão da malha fechada:\n",
    "closed_loop4 = ct.InterconnectedSystem(\n",
    "    (fanplate, atraso, sys_pichr1, sys_pichr2), name='closed_loop4', \n",
    "    connections=(('pichr1.u', '-fanplate.x1'), ('atraso.u', 'pichr1.y'), ('pichr2.u', '-fanplate.x1'), ('atraso.u', 'pichr2.y'), ('fanplate.u', 'atraso.y')), \n",
    "    inplist=('pichr1.u', 'pichr2.u', 'atraso.u'),\n",
    "    inputs=('xref1', 'xref2', 'u0'),\n",
    "    outlist=('fanplate.x1', 'fanplate.x2', 'fanplate.u'),\n",
    "    outputs=('x1', 'x2', 'u')\n",
    ")\n",
    "\n",
    "# Simulando Malha Fechada:\n",
    "X0 = np.zeros(7)\n",
    "t, xout = ct.input_output_response(closed_loop4, t, [r, r, u0], X0)\n",
    "cpichr = xout[0]\n",
    "\n",
    "#Plotando o resultado da simulação-------------------------------------------------------------------\n",
    "plt.figure(11)\n",
    "plt.rcParams['figure.figsize'] = (12, 5)\n",
    "plt.subplot(2, 1, 1)\n",
    "plt.plot(t, np.degrees(ma), 'red', label='MA')\n",
    "plt.plot(t, np.degrees(cpichr),'blue',label='PCHR')\n",
    "plt.ylabel('$\\\\theta$ [°]')\n",
    "plt.legend(loc='lower right')\n",
    "plt.ylim(18, 35)\n",
    "plt.title('Malha Aberta X Controlador PI - CHR')\n",
    "plt.grid()\n",
    "\n",
    "plt.subplot(2, 1, 2)\n",
    "plt.plot(t, xout[2], 'green', label='$u_{(t)}$')\n",
    "plt.ylabel('$u_{(t)}$')\n",
    "plt.xlabel('Tempo [s]')\n",
    "plt.grid()\n",
    "plt.show()"
   ]
  },
  {
   "cell_type": "markdown",
   "metadata": {},
   "source": [
    "* Comparação entre os controladores:"
   ]
  },
  {
   "cell_type": "code",
   "execution_count": 222,
   "metadata": {},
   "outputs": [
    {
     "name": "stderr",
     "output_type": "stream",
     "text": [
      "qt.qpa.wayland: Wayland does not support QWindow::requestActivate()\n",
      "qt.qpa.wayland: Wayland does not support QWindow::requestActivate()\n",
      "qt.qpa.wayland: Wayland does not support QWindow::requestActivate()\n",
      "qt.qpa.wayland: Wayland does not support QWindow::requestActivate()\n",
      "qt.qpa.wayland: Wayland does not support QWindow::requestActivate()\n",
      "qt.qpa.wayland: Wayland does not support QWindow::requestActivate()\n",
      "qt.qpa.wayland: Wayland does not support QWindow::requestActivate()\n",
      "qt.qpa.wayland: Wayland does not support QWindow::requestActivate()\n",
      "qt.qpa.wayland: Wayland does not support QWindow::requestActivate()\n",
      "qt.qpa.wayland: Wayland does not support QWindow::requestActivate()\n",
      "qt.qpa.wayland: Wayland does not support QWindow::requestActivate()\n",
      "qt.qpa.wayland: Wayland does not support QWindow::requestActivate()\n"
     ]
    }
   ],
   "source": [
    "#Plotando o resultado da simulação-------------------------------------------------------------------\n",
    "plt.figure(12)\n",
    "plt.rcParams['figure.figsize'] = (12, 5)\n",
    "plt.plot(t, np.degrees(ma), 'pink', label='MA')\n",
    "plt.plot(t, np.degrees(cpzn),'red',label='PZN')\n",
    "plt.plot(t, np.degrees(cpchr),'green',label='PCHR')\n",
    "plt.plot(t, np.degrees(cpizn),'blue',label='PIZN')\n",
    "plt.plot(t, np.degrees(cpichr),'yellow',label='PICHR')\n",
    "plt.ylabel('$\\\\theta$ [°]')\n",
    "plt.legend(loc='lower right')\n",
    "plt.ylim(18, 35)\n",
    "plt.title('P X PI (Ziegler Nichols X CHR)')\n",
    "plt.grid()\n",
    "plt.show()"
   ]
  },
  {
   "cell_type": "markdown",
   "metadata": {},
   "source": [
    "* Rejeição a perturbação:"
   ]
  },
  {
   "cell_type": "code",
   "execution_count": null,
   "metadata": {},
   "outputs": [],
   "source": []
  },
  {
   "cell_type": "markdown",
   "metadata": {},
   "source": [
    "### 👉 Item 12:"
   ]
  },
  {
   "cell_type": "markdown",
   "metadata": {},
   "source": [
    "* Performance da malha fechada:"
   ]
  },
  {
   "cell_type": "code",
   "execution_count": null,
   "metadata": {},
   "outputs": [],
   "source": []
  }
 ],
 "metadata": {
  "kernelspec": {
   "display_name": "Python 3.10.6 64-bit",
   "language": "python",
   "name": "python3"
  },
  "language_info": {
   "codemirror_mode": {
    "name": "ipython",
    "version": 3
   },
   "file_extension": ".py",
   "mimetype": "text/x-python",
   "name": "python",
   "nbconvert_exporter": "python",
   "pygments_lexer": "ipython3",
   "version": "3.10.6"
  },
  "orig_nbformat": 4,
  "vscode": {
   "interpreter": {
    "hash": "916dbcbb3f70747c44a77c7bcd40155683ae19c65e1c03b4aa3499c5328201f1"
   }
  }
 },
 "nbformat": 4,
 "nbformat_minor": 2
}
