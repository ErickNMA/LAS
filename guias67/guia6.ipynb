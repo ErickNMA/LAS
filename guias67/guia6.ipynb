{
 "cells": [
  {
   "cell_type": "markdown",
   "metadata": {},
   "source": [
    "# Guia de Prática 6"
   ]
  },
  {
   "cell_type": "markdown",
   "metadata": {},
   "source": [
    "### -> Passos iniciais:"
   ]
  },
  {
   "cell_type": "code",
   "execution_count": 2,
   "metadata": {},
   "outputs": [],
   "source": [
    "#!/usr/bin/env python3\n",
    "# -*- coding: utf-8 -*-\n",
    "\"\"\"\n",
    "@author: Erick Nathan M. Alves & Victor Sidnei Cotta\n",
    "@data: 15/11/2022\n",
    "\"\"\"\n",
    "\n",
    "\n",
    "\n",
    "#Importando as bibliotecas:\n",
    "import numpy as np # importando biblioteca numpy\n",
    "import matplotlib.pyplot as plt # importando biblioteca para plotar as figuras\n",
    "import control as ct  #importando biblioteca python control systems\n",
    "\n",
    "plt.close('all') #comando para fechar todas janelas de plot\n",
    "\n",
    "#Exibição dos gráficos em janela externa:\n",
    "%matplotlib qt\n",
    "#Exibição dos gráficos em no notebook:\n",
    "#%matplotlib inline\n",
    "\n",
    "\n",
    "\n",
    "#Parâmetros do sistema:\n",
    "La = .154\n",
    "L1 = .155\n",
    "Lt = .270\n",
    "d = .02\n",
    "m = .005\n",
    "rho = 1.23\n",
    "c = 2.05\n",
    "mi = 5\n",
    "g = 9.81\n",
    "\n",
    "#Constantes do modelo:\n",
    "K1 = ((d*rho*c*La*L1)/(2*m*(((Lt**2)/12)+(d**2))))\n",
    "K2 = ((g*d)/(((Lt**2)/12)+(d**2)))\n",
    "K3 = ((mi*d**2)/(m*(((Lt**2)/12)+(d**2))))\n",
    "\n",
    "#Dinâmica do sistema:\n",
    "X0 = [0, 0] #condições iniciais\n",
    "\n",
    "#Caracterizando o modelo, em espaço de estados:\n",
    "def model_update(t, x, u, params):\n",
    "    \n",
    "    x1 = x[0] # posicao\n",
    "    x2 = x[1] # velocidade\n",
    "\n",
    "    #Retorna as derivadas:\n",
    "    return [x2, ((K1*(np.cos(x1)**2)*u[0]) - ((K2*np.sin(x1)) + (K3*x2)))]\n",
    "\n",
    "#Função que retorna o estado:\n",
    "def model_output(t, x, u, params):\n",
    "    return x\n",
    "\n",
    "#Instanciando o sistema:\n",
    "fanplate = ct.NonlinearIOSystem(model_update, model_output, states=2, name='fanplate', inputs=('u'), outputs=('x1','x2'))"
   ]
  },
  {
   "cell_type": "markdown",
   "metadata": {},
   "source": [
    "### -> Item 2:"
   ]
  },
  {
   "cell_type": "markdown",
   "metadata": {},
   "source": [
    "* Levando o sistema ao ponto de operação (27°):"
   ]
  },
  {
   "cell_type": "code",
   "execution_count": 3,
   "metadata": {},
   "outputs": [],
   "source": [
    "#Parâmetros de simulação:\n",
    "t = np.arange(0, 12, .01) #criando array de tempo\n",
    "pop = 27 #Posição de equilíbrio em graus\n",
    "u_eq = (((K2/K1)*np.sin(np.radians(pop)))/(np.cos(np.radians(pop))**2)) #sinal que leva ao ponto desejado\n",
    "u = u_eq*np.ones(t.shape) #criando array com para o sinal\n",
    "\n",
    "#Solucionando o sistema em si:\n",
    "t, x = ct.input_output_response(fanplate, t, u, X0=X0)\n",
    "y = x[0]\n",
    "\n",
    "#Plotando o resultado da simulação-------------------------------------------------------------------\n",
    "plt.figure(1)\n",
    "plt.rcParams['figure.figsize'] = (15, 8)\n",
    "plt.rcParams['xtick.labelsize'] = 20\n",
    "plt.rcParams['ytick.labelsize'] = 20\n",
    "plt.subplot(2, 1, 1)\n",
    "plt.plot(t, np.degrees(y),'r', label='$\\\\theta_{(t)}$', linewidth=3)\n",
    "plt.ylabel('$\\\\theta_{(t)}$ [°]', fontsize=28)\n",
    "plt.title('Levando o Sistema ao Ponto de Equilíbrio', fontsize=28)\n",
    "plt.grid()\n",
    "\n",
    "plt.subplot(2, 1, 2)\n",
    "plt.plot(t, u, 'g', label='$u_{(t)}$', linewidth=3)\n",
    "plt.ylabel('$u_{(t)}$', fontsize=28)\n",
    "plt.xlabel('Tempo [s]', fontsize=28)\n",
    "plt.grid()\n",
    "plt.show()"
   ]
  },
  {
   "cell_type": "markdown",
   "metadata": {},
   "source": [
    "* Aplicação de um degrau de +5° em torno do equilíbrio:"
   ]
  },
  {
   "cell_type": "code",
   "execution_count": 4,
   "metadata": {},
   "outputs": [],
   "source": [
    "#Parâmetros de simulação:\n",
    "X0 = [np.radians(27), 0]\n",
    "kd = 5\n",
    "ud = (((K2/K1)*np.sin(np.radians(pop+kd)))/(np.cos(np.radians(pop+kd))**2)) #sinal que aplica o degrau\n",
    "td = np.arange(0, 25, .01) #criando array de tempo\n",
    "#Criação do degrau:\n",
    "u = np.hstack(((u_eq*np.ones(100)), (ud*np.ones(1200)), (u_eq*np.ones(1200))))    \n",
    "\n",
    "#Solucionando o sistema em si:\n",
    "td, xd = ct.input_output_response(fanplate, td, u, X0=X0)\n",
    "yd = xd[0]\n",
    "\n",
    "#Plotando o resultado da simulação-------------------------------------------------------------------\n",
    "plt.figure(2)\n",
    "plt.rcParams['figure.figsize'] = (15, 8)\n",
    "plt.rcParams['xtick.labelsize'] = 20\n",
    "plt.rcParams['ytick.labelsize'] = 20\n",
    "plt.subplot(2, 1, 1)\n",
    "plt.plot(td, np.degrees(yd),'r', label='$\\\\theta_{(t)}$', linewidth=3)\n",
    "plt.ylabel('$\\\\theta_{(t)}$ [°]', fontsize=28)\n",
    "plt.title('Resposta à Entrada em Degrau', fontsize=28)\n",
    "plt.grid()\n",
    "\n",
    "plt.subplot(2, 1, 2)\n",
    "plt.plot(td, u, 'g', label='$u_{d_{(t)}}$', linewidth=3)\n",
    "plt.ylabel('$u_{d_{(t)}}$', fontsize=28)\n",
    "plt.xlabel('Tempo [s]', fontsize=28)\n",
    "plt.grid()\n",
    "plt.show()"
   ]
  },
  {
   "cell_type": "markdown",
   "metadata": {},
   "source": [
    "* Obtenção dos parâmetros para modelo de Ziegler-Nichols, por resposta ao degrau positivo (borda de subida):"
   ]
  },
  {
   "cell_type": "code",
   "execution_count": 5,
   "metadata": {},
   "outputs": [
    {
     "name": "stdout",
     "output_type": "stream",
     "text": [
      "\n",
      " Resposta ao degrau (+5º): \tA = 1\t B = 1.9606\t C = 2.5212\n"
     ]
    }
   ],
   "source": [
    "#Equilíbrio:\n",
    "y0 = (pop*np.ones(td.shape))\n",
    "\n",
    "#Reta tangente:\n",
    "coef_ang = 3.3\n",
    "coef_lin = 23.68\n",
    "y1 = (coef_ang*td + coef_lin) #ajustada graficamente\n",
    "\n",
    "#Atraso / tempo morto / fase:\n",
    "A = 1 #obtido graficamente (há uma antecipação que não existe, o atraso é zero aqui, portanto o tempo morto também é zero)!!!!!!!!!!!!!!!\n",
    "\n",
    "#Reta 0,63K:\n",
    "y2 = ((pop+(0.63*kd))*np.ones(td.shape))\n",
    "B = (((pop+(0.63*kd))-coef_lin)/coef_ang)\n",
    "\n",
    "#Reta K:\n",
    "y3 = ((pop+kd)*np.ones(td.shape))\n",
    "C = (((pop+kd)-coef_lin)/coef_ang)\n",
    "\n",
    "print(\"\\n Resposta ao degrau (+5º): \\tA = \" + str(round(A, 4)) + \"\\t B = \" + str(round(B, 4)) + \"\\t C = \" + str(round(C, 4)))\n",
    "\n",
    "#Plotando o resultado da simulação-------------------------------------------------------------------\n",
    "plt.figure(3)\n",
    "plt.rcParams['figure.figsize'] = (15, 8)\n",
    "plt.plot(td, np.degrees(yd),'red',label='Taq(t)')\n",
    "plt.plot(td, y0,'black',label='Equilíbrio')\n",
    "plt.plot(td, y1,'pink',label='Tangente')\n",
    "plt.plot(td, y2,'yellow',ls='--',label='0,63k')\n",
    "plt.plot(td, y3,'blue',ls='--',label='k')\n",
    "plt.scatter(A, 27, c='orange', linewidths=3, label='A')\n",
    "plt.scatter(B, (27+(0.63*5)), c='purple', linewidths=3, label='B')\n",
    "plt.scatter(C, 32, c='green', linewidths=3, label='C')\n",
    "plt.ylabel('Temperatura (°C)')\n",
    "plt.xlabel('Tempo (s)')\n",
    "plt.xlim(0, 10)\n",
    "plt.legend()\n",
    "plt.ylim(26.9, 32.2)\n",
    "plt.title('Resposta ao degrau com 3 parâmetros (+5º)')\n",
    "plt.grid()\n",
    "plt.show()"
   ]
  },
  {
   "cell_type": "markdown",
   "metadata": {},
   "source": [
    "* Validação do modelo:"
   ]
  },
  {
   "cell_type": "code",
   "execution_count": 6,
   "metadata": {},
   "outputs": [
    {
     "name": "stdout",
     "output_type": "stream",
     "text": [
      "\n",
      " TAU: \t 1.5212\n",
      "\n",
      "G: \n",
      "  0.3245\n",
      "-----------\n",
      "1.521 s + 1\n",
      "\n"
     ]
    }
   ],
   "source": [
    "#Resposta ao degrau:\n",
    "tau = (C-A)\n",
    "print(f'\\n TAU: \\t {round(tau, 4)}')\n",
    "theta = 0\n",
    "def sd(t, k, tau, theta):\n",
    "    return (k*(1-np.exp((theta-t)/tau)))\n",
    "\n",
    "#Criação de degraus:\n",
    "udeg = []\n",
    "kdeg = [-3, 3, -5, 8, 5]\n",
    "for i in range(len(kdeg)):\n",
    "    udeg.append((((K2/K1)*np.sin(np.radians(pop+kdeg[i])))/(np.cos(np.radians(pop+kdeg[i]))**2))*np.ones(1200))\n",
    "uv = np.hstack(udeg)\n",
    "\n",
    "tv = np.arange(0, 60, .01)\n",
    "\n",
    "ysv = np.hstack(((pop+sd(tv[:1200], -3, tau, theta)), ((pop+kdeg[0])+sd(tv[:1200], 6, tau, theta)), ((pop+kdeg[1])+sd(tv[:1200], -8, tau, theta)), ((pop+kdeg[2])+sd(tv[:1200], 13, tau, theta)), ((pop+kdeg[3])+sd(tv[:1200], -3, tau, theta))))\n",
    "\n",
    "#Parâmetros de simulação:\n",
    "X0 = [np.radians(pop), 0]\n",
    "\n",
    "#Solucionando o sistema em si:\n",
    "tv, xv = ct.input_output_response(fanplate, tv, uv, X0=X0)\n",
    "yv = np.degrees(xv[0])\n",
    "\n",
    "#Função de transferência para um sistema de primeira ordem superamortecido:\n",
    "s = ct.tf('s')\n",
    "K = (np.radians(kd)/(ud-u_eq)) #ganho estático do sistema\n",
    "G = (K/((tau*s)+1))\n",
    "print('\\nG: ' + str(G))\n",
    "\n",
    "tv, xft = ct.forced_response(G, T=tv, U=(uv-u_eq))\n",
    "yft = (np.degrees(xft)+27)\n",
    "\n",
    "#Plotando o resultado da simulação-------------------------------------------------------------------\n",
    "plt.figure(4)\n",
    "plt.rcParams['figure.figsize'] = (15, 8)\n",
    "plt.plot(tv, yv, 'red', label='Taq(t)')\n",
    "plt.plot(tv, ysv,'green',label='Miller +')\n",
    "plt.plot(tv, yft,'blue',label='Miller +')\n",
    "plt.ylabel('Temperatura (°C)')\n",
    "plt.xlabel('Tempo (s)')\n",
    "#plt.xlim(350, tf)\n",
    "plt.legend()\n",
    "#plt.ylim(70, 90)\n",
    "plt.title('Miller +')\n",
    "plt.grid()\n",
    "plt.show()"
   ]
  },
  {
   "cell_type": "markdown",
   "metadata": {},
   "source": [
    "### Item 3:"
   ]
  },
  {
   "cell_type": "markdown",
   "metadata": {},
   "source": [
    "* Inclusão do atraso ao modelo obtido:"
   ]
  },
  {
   "cell_type": "code",
   "execution_count": 7,
   "metadata": {},
   "outputs": [],
   "source": [
    "theta = 0.15\n",
    "\n",
    "td1 = np.arange(0, 60, .01)\n",
    "\n",
    "yd1 = np.hstack(((pop+sd(tv[:1200], -3, tau, theta)), ((pop+kdeg[0])+sd(tv[:1200], 6, tau, theta)), ((pop+kdeg[1])+sd(tv[:1200], -8, tau, theta)), ((pop+kdeg[2])+sd(tv[:1200], 13, tau, theta)), ((pop+kdeg[3])+sd(tv[:1200], -3, tau, theta))))\n",
    "\n",
    "#Parâmetros de simulação:\n",
    "X0 = [np.radians(pop), 0]\n",
    "\n",
    "#Plotando o resultado da simulação-------------------------------------------------------------------\n",
    "plt.figure(5)\n",
    "plt.rcParams['figure.figsize'] = (15, 8)\n",
    "plt.plot(tv, yv, 'red', label='Taq(t)')\n",
    "plt.plot(tv, yd1,'blue',label='Miller +')\n",
    "plt.ylabel('Temperatura (°C)')\n",
    "plt.xlabel('Tempo (s)')\n",
    "#plt.xlim(350, tf)\n",
    "plt.legend()\n",
    "#plt.ylim(70, 90)\n",
    "plt.title('Miller +')\n",
    "plt.grid()\n",
    "plt.show()"
   ]
  },
  {
   "cell_type": "markdown",
   "metadata": {},
   "source": [
    "### Itens 4 e 5:"
   ]
  },
  {
   "cell_type": "markdown",
   "metadata": {},
   "source": [
    "* Incluindo atraso por aproximação de Padé (ordens: 1, 3, 5 e 9):"
   ]
  },
  {
   "cell_type": "code",
   "execution_count": 8,
   "metadata": {},
   "outputs": [
    {
     "name": "stdout",
     "output_type": "stream",
     "text": [
      "\n",
      " Gd1: \t \n",
      "-s + 13.33\n",
      "----------\n",
      "s + 13.33\n",
      "\n",
      "\n",
      " Gd3: \t \n",
      "-s^3 + 80 s^2 - 2667 s + 3.556e+04\n",
      "----------------------------------\n",
      "s^3 + 80 s^2 + 2667 s + 3.556e+04\n",
      "\n",
      "\n",
      " Gd5: \t \n",
      "-s^5 + 200 s^4 - 1.867e+04 s^3 + 9.956e+05 s^2 - 2.987e+07 s + 3.982e+08\n",
      "------------------------------------------------------------------------\n",
      "s^5 + 200 s^4 + 1.867e+04 s^3 + 9.956e+05 s^2 + 2.987e+07 s + 3.982e+08\n",
      "\n",
      "\n",
      " Gd9: \t \n",
      "-s^9 + 600 s^8 - 1.76e+05 s^7 + 3.285e+07 s^6 - 4.271e+09 s^5 + 3.986e+11 s^4 - 2.657e+13 s^3 + 1.215e+15 s^2 - 3.442e+16 s + 4.589e+17\n",
      "---------------------------------------------------------------------------------------------------------------------------------------\n",
      "s^9 + 600 s^8 + 1.76e+05 s^7 + 3.285e+07 s^6 + 4.271e+09 s^5 + 3.986e+11 s^4 + 2.657e+13 s^3 + 1.215e+15 s^2 + 3.442e+16 s + 4.589e+17\n",
      "\n"
     ]
    }
   ],
   "source": [
    "#Funções de transferência das ordens especificadas:\n",
    "Gd = []\n",
    "o_p = [1, 3, 5, 9]\n",
    "for i in range(len(o_p)):\n",
    "    #Aproximação de padé:\n",
    "    N = ct.pade(0.15, o_p[i])\n",
    "    #Função de transferência do atraso:\n",
    "    Gd.append(ct.TransferFunction(np.array(N[0]), np.array(N[1])))\n",
    "    print(f'\\n Gd{o_p[i]}: \\t {Gd[i]}')"
   ]
  },
  {
   "cell_type": "markdown",
   "metadata": {},
   "source": [
    "### Item 6:"
   ]
  },
  {
   "cell_type": "markdown",
   "metadata": {},
   "source": [
    "* Simulação do sistema com atraso:"
   ]
  },
  {
   "cell_type": "code",
   "execution_count": 9,
   "metadata": {},
   "outputs": [],
   "source": [
    "y_malha = []\n",
    "u = u_eq*np.ones(t.shape) #criando array com para o sinal\n",
    "for i in range(4):\n",
    "    atraso = ct.tf2io(Gd[i], name='atraso', inputs='u', outputs='y')\n",
    "    malha = ct.InterconnectedSystem(\n",
    "        (atraso, fanplate), name='malha', \n",
    "        connections=(('atraso.u',), ('fanplate.u', 'atraso.y')), \n",
    "        inplist=('atraso.u'),\n",
    "        outlist=('fanplate.x1', 'fanplate.x2')\n",
    "    )\n",
    "    X0 = np.zeros(o_p[i]+2)\n",
    "\n",
    "    t, ym = ct.input_output_response(malha, t, u, X0)\n",
    "    y_malha.append(ym[0])\n",
    "\n",
    "#Parâmetros de simulação:\n",
    "X0 = [0, 0]\n",
    "tn = np.arange(0, 12, .01) #criando array de tempo\n",
    "u = u_eq*np.ones(t.shape) #criando array com para o sinal\n",
    "\n",
    "#Solucionando o sistema em si:\n",
    "tn, x = ct.input_output_response(fanplate, tn, u, X0=X0)\n",
    "y = x[0]\n",
    "\n",
    "#Plotando o resultado da simulação-------------------------------------------------------------------\n",
    "plt.figure(6)\n",
    "plt.rcParams['figure.figsize'] = (15, 8)\n",
    "plt.plot(tn, np.degrees(y), 'pink', label='Taq(t)')\n",
    "plt.plot(t, np.degrees(y_malha[0]), 'red', label='Taq(t)')\n",
    "plt.plot(t, np.degrees(y_malha[1]),'green',label='Miller +')\n",
    "plt.plot(t, np.degrees(y_malha[2]),'blue',label='Miller +')\n",
    "plt.plot(t, np.degrees(y_malha[3]),'yellow',label='Miller +')\n",
    "plt.ylabel('Temperatura (°C)')\n",
    "plt.xlabel('Tempo (s)')\n",
    "#plt.xlim(350, tf)\n",
    "plt.legend()\n",
    "#plt.ylim(70, 90)\n",
    "plt.title('Miller +')\n",
    "plt.grid()\n",
    "plt.show()\n"
   ]
  },
  {
   "cell_type": "markdown",
   "metadata": {},
   "source": [
    "### Item 7:"
   ]
  },
  {
   "cell_type": "markdown",
   "metadata": {},
   "source": [
    "* Comparação resposta ao degrau com atraso, por aproximação de Padé de 5ª ordem:"
   ]
  },
  {
   "cell_type": "code",
   "execution_count": 10,
   "metadata": {},
   "outputs": [],
   "source": [
    "#Parâmetros de simulação:\n",
    "X0 = [np.radians(pop), 0]\n",
    "\n",
    "#Criação do degrau:\n",
    "u = np.hstack(((ud*np.ones(1200)), (u_eq*np.ones(1200)))) \n",
    "t = np.arange(0, 24, .01) #criando array de tempo\n",
    "\n",
    "#Solucionando o sistema em si:\n",
    "t, xdeg = ct.input_output_response(fanplate, t, u, X0=X0)\n",
    "ydeg = xdeg[0]\n",
    "\n",
    "atraso = ct.tf2io(Gd[2], name='atraso', inputs='u', outputs='y')\n",
    "malha = ct.InterconnectedSystem(\n",
    "    (atraso, fanplate), name='malha', \n",
    "    connections=(('atraso.u',), ('fanplate.u', 'atraso.y')), \n",
    "    inplist=('atraso.u'),\n",
    "    outlist=('fanplate.x1', 'fanplate.x2')\n",
    ")\n",
    "X0 = np.array([0, 0, 0, 0, 0, np.radians(pop), 0])\n",
    "\n",
    "t, xm = ct.input_output_response(malha, t, u, X0)\n",
    "y_md = xm[0]\n",
    "\n",
    "#Plotando o resultado da simulação-------------------------------------------------------------------\n",
    "plt.figure(7)\n",
    "plt.rcParams['figure.figsize'] = (15, 8)\n",
    "plt.plot(t, np.degrees(ydeg), 'red', label='Taq(t)')\n",
    "plt.plot(t, np.degrees(y_md),'blue',label='Miller +')\n",
    "plt.ylabel('Temperatura (°C)')\n",
    "plt.xlabel('Tempo (s)')\n",
    "#plt.xlim(350, tf)\n",
    "plt.legend()\n",
    "#plt.ylim(70, 90)\n",
    "plt.title('Miller +')\n",
    "plt.grid()\n",
    "plt.show()"
   ]
  },
  {
   "cell_type": "markdown",
   "metadata": {},
   "source": [
    "### Itens 8:"
   ]
  },
  {
   "cell_type": "markdown",
   "metadata": {},
   "source": [
    "* Controlador Proporcional - Ziegler Nichols:"
   ]
  },
  {
   "cell_type": "code",
   "execution_count": 11,
   "metadata": {},
   "outputs": [
    {
     "name": "stdout",
     "output_type": "stream",
     "text": [
      "\n",
      "Kc: \t 116.212\n"
     ]
    }
   ],
   "source": [
    "# Constantes via parâmetros de Ziegler Nichols - Tabelas 8.6 e 8.7 (Garcia, 2017):\n",
    "Kc_pzn = (tau/(np.radians(kd)*theta))\n",
    "print(f'\\nKc: \\t {round(Kc_pzn, 4)}')"
   ]
  },
  {
   "cell_type": "markdown",
   "metadata": {},
   "source": [
    "* Controlador Proporcional - CHR:"
   ]
  },
  {
   "cell_type": "code",
   "execution_count": 12,
   "metadata": {},
   "outputs": [
    {
     "name": "stdout",
     "output_type": "stream",
     "text": [
      "\n",
      "Kc: \t 34.8636\n"
     ]
    }
   ],
   "source": [
    "# Constantes via parâmetros de CHR - Tabela 8.9 (Garcia, 2017):\n",
    "Kc_pchr = ((0.3*tau)/(np.radians(kd)*theta))\n",
    "print(f'\\nKc: \\t {round(Kc_pchr, 4)}')"
   ]
  },
  {
   "cell_type": "markdown",
   "metadata": {},
   "source": [
    "* Controlador Proporcional Integral - Ziegler Nichols:"
   ]
  },
  {
   "cell_type": "code",
   "execution_count": 13,
   "metadata": {},
   "outputs": [
    {
     "name": "stdout",
     "output_type": "stream",
     "text": [
      "\n",
      "Kc: \t 104.5908\n",
      "\n",
      "Ti: \t 0.5\n"
     ]
    }
   ],
   "source": [
    "# Constantes via parâmetros de Ziegler Nichols - Tabelas 8.6 e 8.7 (Garcia, 2017):\n",
    "Kc_pizn = ((0.9*tau)/(np.radians(kd)*theta))\n",
    "Ti_pizn = ((10*theta)/3)\n",
    "print(f'\\nKc: \\t {round(Kc_pizn, 4)}')\n",
    "print(f'\\nTi: \\t {round(Ti_pizn, 4)}')"
   ]
  },
  {
   "cell_type": "markdown",
   "metadata": {},
   "source": [
    "* Controlador Proporcional Integral - CHR:"
   ]
  },
  {
   "cell_type": "code",
   "execution_count": 14,
   "metadata": {},
   "outputs": [
    {
     "name": "stdout",
     "output_type": "stream",
     "text": [
      "\n",
      "Kc: \t 1.217\n",
      "\n",
      "Ti: \t 0.6\n"
     ]
    }
   ],
   "source": [
    "# Constantes via parâmetros de CHR - Tabela 8.9 (Garcia, 2017):\n",
    "Kc_pichr = ((0.6*tau)/(kd*theta))\n",
    "Ti_pichr = (4*theta)\n",
    "print(f'\\nKc: \\t {round(Kc_pichr, 4)}')\n",
    "print(f'\\nTi: \\t {round(Ti_pichr, 4)}')"
   ]
  },
  {
   "cell_type": "markdown",
   "metadata": {},
   "source": [
    "### Item 10:"
   ]
  },
  {
   "cell_type": "markdown",
   "metadata": {},
   "source": [
    "* Resposta em malha fechada r = [0 1 0 −1 0.5 1 −0.5 0]:"
   ]
  },
  {
   "cell_type": "code",
   "execution_count": 17,
   "metadata": {},
   "outputs": [
    {
     "name": "stdout",
     "output_type": "stream",
     "text": [
      "[0.4712389 0.4712389 0.4712389 ... 0.4712389 0.4712389 0.4712389]\n"
     ]
    },
    {
     "ename": "KeyboardInterrupt",
     "evalue": "",
     "output_type": "error",
     "traceback": [
      "\u001b[1;31m---------------------------------------------------------------------------\u001b[0m",
      "\u001b[1;31mKeyboardInterrupt\u001b[0m                         Traceback (most recent call last)",
      "Cell \u001b[1;32mIn [17], line 60\u001b[0m\n\u001b[0;32m     58\u001b[0m \u001b[39m# Malha fechada:\u001b[39;00m\n\u001b[0;32m     59\u001b[0m X0 \u001b[39m=\u001b[39m np\u001b[39m.\u001b[39marray([\u001b[39m0\u001b[39m, \u001b[39m0\u001b[39m, \u001b[39m0\u001b[39m, \u001b[39m0\u001b[39m, \u001b[39m0\u001b[39m, np\u001b[39m.\u001b[39mradians(pop), \u001b[39m0\u001b[39m])\n\u001b[1;32m---> 60\u001b[0m t, xout \u001b[39m=\u001b[39m ct\u001b[39m.\u001b[39;49minput_output_response(malha1, t, [r, u0], X0)\n\u001b[0;32m     61\u001b[0m cpzn \u001b[39m=\u001b[39m xout[\u001b[39m0\u001b[39m]\n\u001b[0;32m     63\u001b[0m \u001b[39m#Plotando o resultado da simulação-------------------------------------------------------------------\u001b[39;00m\n",
      "File \u001b[1;32mc:\\Users\\Erick\\AppData\\Local\\Programs\\Python\\Python311\\Lib\\site-packages\\control\\iosys.py:1839\u001b[0m, in \u001b[0;36minput_output_response\u001b[1;34m(sys, T, U, X0, params, transpose, return_x, squeeze, solve_ivp_kwargs, t_eval, **kwargs)\u001b[0m\n\u001b[0;32m   1836\u001b[0m \u001b[39mif\u001b[39;00m \u001b[39mnot\u001b[39;00m \u001b[39mhasattr\u001b[39m(sp\u001b[39m.\u001b[39mintegrate, \u001b[39m'\u001b[39m\u001b[39msolve_ivp\u001b[39m\u001b[39m'\u001b[39m):\n\u001b[0;32m   1837\u001b[0m     \u001b[39mraise\u001b[39;00m \u001b[39mNameError\u001b[39;00m(\u001b[39m\"\u001b[39m\u001b[39mscipy.integrate.solve_ivp not found; \u001b[39m\u001b[39m\"\u001b[39m\n\u001b[0;32m   1838\u001b[0m                     \u001b[39m\"\u001b[39m\u001b[39muse SciPy 1.0 or greater\u001b[39m\u001b[39m\"\u001b[39m)\n\u001b[1;32m-> 1839\u001b[0m soln \u001b[39m=\u001b[39m sp\u001b[39m.\u001b[39;49mintegrate\u001b[39m.\u001b[39;49msolve_ivp(\n\u001b[0;32m   1840\u001b[0m     ivp_rhs, (T0, Tf), X0, t_eval\u001b[39m=\u001b[39;49mt_eval,\n\u001b[0;32m   1841\u001b[0m     vectorized\u001b[39m=\u001b[39;49m\u001b[39mFalse\u001b[39;49;00m, \u001b[39m*\u001b[39;49m\u001b[39m*\u001b[39;49msolve_ivp_kwargs)\n\u001b[0;32m   1842\u001b[0m \u001b[39mif\u001b[39;00m \u001b[39mnot\u001b[39;00m soln\u001b[39m.\u001b[39msuccess:\n\u001b[0;32m   1843\u001b[0m     \u001b[39mraise\u001b[39;00m \u001b[39mRuntimeError\u001b[39;00m(\u001b[39m\"\u001b[39m\u001b[39msolve_ivp failed: \u001b[39m\u001b[39m\"\u001b[39m \u001b[39m+\u001b[39m soln\u001b[39m.\u001b[39mmessage)\n",
      "File \u001b[1;32mc:\\Users\\Erick\\AppData\\Local\\Programs\\Python\\Python311\\Lib\\site-packages\\scipy\\integrate\\_ivp\\ivp.py:589\u001b[0m, in \u001b[0;36msolve_ivp\u001b[1;34m(fun, t_span, y0, method, t_eval, dense_output, events, vectorized, args, **options)\u001b[0m\n\u001b[0;32m    587\u001b[0m status \u001b[39m=\u001b[39m \u001b[39mNone\u001b[39;00m\n\u001b[0;32m    588\u001b[0m \u001b[39mwhile\u001b[39;00m status \u001b[39mis\u001b[39;00m \u001b[39mNone\u001b[39;00m:\n\u001b[1;32m--> 589\u001b[0m     message \u001b[39m=\u001b[39m solver\u001b[39m.\u001b[39;49mstep()\n\u001b[0;32m    591\u001b[0m     \u001b[39mif\u001b[39;00m solver\u001b[39m.\u001b[39mstatus \u001b[39m==\u001b[39m \u001b[39m'\u001b[39m\u001b[39mfinished\u001b[39m\u001b[39m'\u001b[39m:\n\u001b[0;32m    592\u001b[0m         status \u001b[39m=\u001b[39m \u001b[39m0\u001b[39m\n",
      "File \u001b[1;32mc:\\Users\\Erick\\AppData\\Local\\Programs\\Python\\Python311\\Lib\\site-packages\\scipy\\integrate\\_ivp\\base.py:181\u001b[0m, in \u001b[0;36mOdeSolver.step\u001b[1;34m(self)\u001b[0m\n\u001b[0;32m    179\u001b[0m \u001b[39melse\u001b[39;00m:\n\u001b[0;32m    180\u001b[0m     t \u001b[39m=\u001b[39m \u001b[39mself\u001b[39m\u001b[39m.\u001b[39mt\n\u001b[1;32m--> 181\u001b[0m     success, message \u001b[39m=\u001b[39m \u001b[39mself\u001b[39;49m\u001b[39m.\u001b[39;49m_step_impl()\n\u001b[0;32m    183\u001b[0m     \u001b[39mif\u001b[39;00m \u001b[39mnot\u001b[39;00m success:\n\u001b[0;32m    184\u001b[0m         \u001b[39mself\u001b[39m\u001b[39m.\u001b[39mstatus \u001b[39m=\u001b[39m \u001b[39m'\u001b[39m\u001b[39mfailed\u001b[39m\u001b[39m'\u001b[39m\n",
      "File \u001b[1;32mc:\\Users\\Erick\\AppData\\Local\\Programs\\Python\\Python311\\Lib\\site-packages\\scipy\\integrate\\_ivp\\rk.py:144\u001b[0m, in \u001b[0;36mRungeKutta._step_impl\u001b[1;34m(self)\u001b[0m\n\u001b[0;32m    141\u001b[0m h \u001b[39m=\u001b[39m t_new \u001b[39m-\u001b[39m t\n\u001b[0;32m    142\u001b[0m h_abs \u001b[39m=\u001b[39m np\u001b[39m.\u001b[39mabs(h)\n\u001b[1;32m--> 144\u001b[0m y_new, f_new \u001b[39m=\u001b[39m rk_step(\u001b[39mself\u001b[39;49m\u001b[39m.\u001b[39;49mfun, t, y, \u001b[39mself\u001b[39;49m\u001b[39m.\u001b[39;49mf, h, \u001b[39mself\u001b[39;49m\u001b[39m.\u001b[39;49mA,\n\u001b[0;32m    145\u001b[0m                        \u001b[39mself\u001b[39;49m\u001b[39m.\u001b[39;49mB, \u001b[39mself\u001b[39;49m\u001b[39m.\u001b[39;49mC, \u001b[39mself\u001b[39;49m\u001b[39m.\u001b[39;49mK)\n\u001b[0;32m    146\u001b[0m scale \u001b[39m=\u001b[39m atol \u001b[39m+\u001b[39m np\u001b[39m.\u001b[39mmaximum(np\u001b[39m.\u001b[39mabs(y), np\u001b[39m.\u001b[39mabs(y_new)) \u001b[39m*\u001b[39m rtol\n\u001b[0;32m    147\u001b[0m error_norm \u001b[39m=\u001b[39m \u001b[39mself\u001b[39m\u001b[39m.\u001b[39m_estimate_error_norm(\u001b[39mself\u001b[39m\u001b[39m.\u001b[39mK, h, scale)\n",
      "File \u001b[1;32mc:\\Users\\Erick\\AppData\\Local\\Programs\\Python\\Python311\\Lib\\site-packages\\scipy\\integrate\\_ivp\\rk.py:64\u001b[0m, in \u001b[0;36mrk_step\u001b[1;34m(fun, t, y, f, h, A, B, C, K)\u001b[0m\n\u001b[0;32m     62\u001b[0m \u001b[39mfor\u001b[39;00m s, (a, c) \u001b[39min\u001b[39;00m \u001b[39menumerate\u001b[39m(\u001b[39mzip\u001b[39m(A[\u001b[39m1\u001b[39m:], C[\u001b[39m1\u001b[39m:]), start\u001b[39m=\u001b[39m\u001b[39m1\u001b[39m):\n\u001b[0;32m     63\u001b[0m     dy \u001b[39m=\u001b[39m np\u001b[39m.\u001b[39mdot(K[:s]\u001b[39m.\u001b[39mT, a[:s]) \u001b[39m*\u001b[39m h\n\u001b[1;32m---> 64\u001b[0m     K[s] \u001b[39m=\u001b[39m fun(t \u001b[39m+\u001b[39;49m c \u001b[39m*\u001b[39;49m h, y \u001b[39m+\u001b[39;49m dy)\n\u001b[0;32m     66\u001b[0m y_new \u001b[39m=\u001b[39m y \u001b[39m+\u001b[39m h \u001b[39m*\u001b[39m np\u001b[39m.\u001b[39mdot(K[:\u001b[39m-\u001b[39m\u001b[39m1\u001b[39m]\u001b[39m.\u001b[39mT, B)\n\u001b[0;32m     67\u001b[0m f_new \u001b[39m=\u001b[39m fun(t \u001b[39m+\u001b[39m h, y_new)\n",
      "File \u001b[1;32mc:\\Users\\Erick\\AppData\\Local\\Programs\\Python\\Python311\\Lib\\site-packages\\scipy\\integrate\\_ivp\\base.py:138\u001b[0m, in \u001b[0;36mOdeSolver.__init__.<locals>.fun\u001b[1;34m(t, y)\u001b[0m\n\u001b[0;32m    136\u001b[0m \u001b[39mdef\u001b[39;00m \u001b[39mfun\u001b[39m(t, y):\n\u001b[0;32m    137\u001b[0m     \u001b[39mself\u001b[39m\u001b[39m.\u001b[39mnfev \u001b[39m+\u001b[39m\u001b[39m=\u001b[39m \u001b[39m1\u001b[39m\n\u001b[1;32m--> 138\u001b[0m     \u001b[39mreturn\u001b[39;00m \u001b[39mself\u001b[39;49m\u001b[39m.\u001b[39;49mfun_single(t, y)\n",
      "File \u001b[1;32mc:\\Users\\Erick\\AppData\\Local\\Programs\\Python\\Python311\\Lib\\site-packages\\scipy\\integrate\\_ivp\\base.py:20\u001b[0m, in \u001b[0;36mcheck_arguments.<locals>.fun_wrapped\u001b[1;34m(t, y)\u001b[0m\n\u001b[0;32m     19\u001b[0m \u001b[39mdef\u001b[39;00m \u001b[39mfun_wrapped\u001b[39m(t, y):\n\u001b[1;32m---> 20\u001b[0m     \u001b[39mreturn\u001b[39;00m np\u001b[39m.\u001b[39masarray(fun(t, y), dtype\u001b[39m=\u001b[39mdtype)\n",
      "File \u001b[1;32mc:\\Users\\Erick\\AppData\\Local\\Programs\\Python\\Python311\\Lib\\site-packages\\control\\iosys.py:1832\u001b[0m, in \u001b[0;36minput_output_response.<locals>.ivp_rhs\u001b[1;34m(t, x)\u001b[0m\n\u001b[0;32m   1831\u001b[0m \u001b[39mdef\u001b[39;00m \u001b[39mivp_rhs\u001b[39m(t, x):\n\u001b[1;32m-> 1832\u001b[0m     \u001b[39mreturn\u001b[39;00m sys\u001b[39m.\u001b[39;49m_rhs(t, x, ufun(t))\n",
      "File \u001b[1;32mc:\\Users\\Erick\\AppData\\Local\\Programs\\Python\\Python311\\Lib\\site-packages\\control\\iosys.py:1024\u001b[0m, in \u001b[0;36mInterconnectedSystem._rhs\u001b[1;34m(self, t, x, u)\u001b[0m\n\u001b[0;32m   1021\u001b[0m u \u001b[39m=\u001b[39m np\u001b[39m.\u001b[39marray(u, ndmin\u001b[39m=\u001b[39m\u001b[39m1\u001b[39m)\n\u001b[0;32m   1023\u001b[0m \u001b[39m# Compute the input and output vectors\u001b[39;00m\n\u001b[1;32m-> 1024\u001b[0m ulist, ylist \u001b[39m=\u001b[39m \u001b[39mself\u001b[39;49m\u001b[39m.\u001b[39;49m_compute_static_io(t, x, u)\n\u001b[0;32m   1026\u001b[0m \u001b[39m# Go through each system and update the right hand side for that system\u001b[39;00m\n\u001b[0;32m   1027\u001b[0m xdot \u001b[39m=\u001b[39m np\u001b[39m.\u001b[39mzeros((\u001b[39mself\u001b[39m\u001b[39m.\u001b[39mnstates,))        \u001b[39m# Array to hold results\u001b[39;00m\n",
      "File \u001b[1;32mc:\\Users\\Erick\\AppData\\Local\\Programs\\Python\\Python311\\Lib\\site-packages\\control\\iosys.py:1062\u001b[0m, in \u001b[0;36mInterconnectedSystem._compute_static_io\u001b[1;34m(self, t, x, u)\u001b[0m\n\u001b[0;32m   1055\u001b[0m (ninputs, noutputs) \u001b[39m=\u001b[39m \u001b[39mself\u001b[39m\u001b[39m.\u001b[39mconnect_map\u001b[39m.\u001b[39mshape\n\u001b[0;32m   1057\u001b[0m \u001b[39m#\u001b[39;00m\n\u001b[0;32m   1058\u001b[0m \u001b[39m# Get the outputs and inputs at the current system state\u001b[39;00m\n\u001b[0;32m   1059\u001b[0m \u001b[39m#\u001b[39;00m\n\u001b[0;32m   1060\u001b[0m \n\u001b[0;32m   1061\u001b[0m \u001b[39m# Initialize the lists used to keep track of internal signals\u001b[39;00m\n\u001b[1;32m-> 1062\u001b[0m ulist \u001b[39m=\u001b[39m np\u001b[39m.\u001b[39;49mdot(\u001b[39mself\u001b[39;49m\u001b[39m.\u001b[39;49minput_map, u)\n\u001b[0;32m   1063\u001b[0m ylist \u001b[39m=\u001b[39m np\u001b[39m.\u001b[39mzeros((noutputs \u001b[39m+\u001b[39m ninputs,))\n\u001b[0;32m   1065\u001b[0m \u001b[39m# To allow for feedthrough terms, iterate multiple times to allow\u001b[39;00m\n\u001b[0;32m   1066\u001b[0m \u001b[39m# feedthrough elements to propagate.  For n systems, we could need to\u001b[39;00m\n\u001b[0;32m   1067\u001b[0m \u001b[39m# cycle through n+1 times before reaching steady state\u001b[39;00m\n\u001b[0;32m   1068\u001b[0m \u001b[39m# TODO (later): see if there is a more efficient way to compute\u001b[39;00m\n",
      "File \u001b[1;32m<__array_function__ internals>:180\u001b[0m, in \u001b[0;36mdot\u001b[1;34m(*args, **kwargs)\u001b[0m\n",
      "\u001b[1;31mKeyboardInterrupt\u001b[0m: "
     ]
    }
   ],
   "source": [
    "#Array de tempo:\n",
    "t = np.arange(0, 96, .01)\n",
    "\n",
    "#Preparando o sinal de referência:\n",
    "r0 = [0, 1, 0, -1, 0.5, 1, -0.5, 0]\n",
    "rs = []\n",
    "us = []\n",
    "for i in range(len(r0)):\n",
    "    ri = np.radians(pop+(kd*r0[i]))\n",
    "    rs.append(ri*np.ones(1200))\n",
    "    us.append((((K2/K1)*np.sin(ri))/(np.cos(ri)**2))*np.ones(1200))\n",
    "r = np.hstack(rs)\n",
    "u = np.hstack(us)\n",
    "\n",
    "#Preparando o sinal de controle de operação:\n",
    "u0 = u_eq*np.ones(t.shape)\n",
    "\n",
    "#Preparando os controladores:\n",
    "\n",
    "#Definição das funções de transferência:\n",
    "ft_pzn = ct.tf(Kc_pzn, 1) # P - Ziegler Nichols\n",
    "ft_pchr = ct.tf(Kc_pchr, 1) # P - CHR\n",
    "ft_pizn1 = ct.tf(Kc_pizn, 1) # PI - Ziegler Nichols (Parte Proporcional)\n",
    "ft_pizn2 = (Ti_pizn/s) # PI - Ziegler Nichols (Parte Integral)\n",
    "ft_pichr1 = ct.tf(Kc_pichr, 1) # PI - CHR (Parte Proporcional)\n",
    "ft_pichr2 = (Ti_pichr/s) # PI - CHR (Parte Integral)\n",
    "\n",
    "#Definindo os subsistemas em formato de entradas e saídas:\n",
    "sys_pzn = ct.tf2io(ft_pzn, name='pzn', inputs='u', outputs='y')\n",
    "sys_pchr = ct.tf2io(ft_pchr, name='pchr', inputs='u', outputs='y')\n",
    "sys_pizn1 = ct.tf2io(ft_pizn1, name='pizn1', inputs='u', outputs='y')\n",
    "sys_pizn2 = ct.tf2io(ft_pizn2, name='pizn2', inputs='u', outputs='y')\n",
    "sys_pichr1 = ct.tf2io(ft_pichr1, name='pichr1', inputs='u', outputs='y')\n",
    "sys_pichr2 = ct.tf2io(ft_pichr2, name='pichr2', inputs='u', outputs='y')\n",
    "\n",
    "# Atraso:\n",
    "atraso = ct.tf2io(Gd[-2], name='atraso', inputs='u', outputs='y')\n",
    "\n",
    "#Conexão das malhas:\n",
    "\n",
    "# Controlador Proporcional - Ziegler Nichols:\n",
    "malha1 = ct.InterconnectedSystem(\n",
    "    (fanplate, atraso, sys_pzn), name='malha1', \n",
    "    connections=(('pzn.u', '-fanplate.x1'), ('atraso.u', 'pzn.y'), ('fanplate.u', 'atraso.y')), \n",
    "    inplist=('pzn.u', 'atraso.u'),\n",
    "    inputs=('xref', 'u0'),\n",
    "    outlist=('fanplate.x1', 'fanplate.x2', 'fanplate.u'),\n",
    "    outputs=('x1', 'x2', 'u')\n",
    ")\n",
    "\n",
    "# Malha aberta:\n",
    "X0 = [np.radians(pop), 0]\n",
    "t, xout = ct.input_output_response(fanplate, t, u, X0)\n",
    "ma = xout[0]\n",
    "\n",
    "# Malha fechada:\n",
    "X0 = np.array([0, 0, 0, 0, 0, np.radians(pop), 0])\n",
    "t, xout = ct.input_output_response(malha1, t, [r, u0], X0)\n",
    "cpzn = xout[0]\n",
    "\n",
    "#Plotando o resultado da simulação-------------------------------------------------------------------\n",
    "plt.figure(8)\n",
    "plt.rcParams['figure.figsize'] = (15, 8)\n",
    "plt.subplot(2, 1, 1)\n",
    "plt.plot(t, np.degrees(ma), 'red', label='Taq(t)')\n",
    "plt.plot(t, np.degrees(cpzn),'blue',label='Miller +')\n",
    "plt.ylabel('Temperatura (°C)')\n",
    "#plt.xlabel('Tempo (s)')\n",
    "#plt.xlim(350, tf)\n",
    "plt.legend()\n",
    "#plt.ylim(70, 90)\n",
    "plt.title('Miller +')\n",
    "plt.grid()\n",
    "\n",
    "plt.subplot(2, 1, 2)\n",
    "plt.plot(t, xout[2], 'green', label='Taq(t)')\n",
    "plt.ylabel('Temperatura (°C)')\n",
    "plt.xlabel('Tempo (s)')\n",
    "#plt.xlim(350, tf)\n",
    "plt.legend()\n",
    "#plt.ylim(70, 90)\n",
    "plt.grid()\n",
    "plt.show()\n"
   ]
  },
  {
   "cell_type": "markdown",
   "metadata": {},
   "source": [
    "* Rejeição a perturbação:"
   ]
  },
  {
   "cell_type": "code",
   "execution_count": null,
   "metadata": {},
   "outputs": [],
   "source": []
  },
  {
   "cell_type": "markdown",
   "metadata": {},
   "source": [
    "### Item 12:"
   ]
  },
  {
   "cell_type": "markdown",
   "metadata": {},
   "source": [
    "* Performance da malha fechada:"
   ]
  },
  {
   "cell_type": "code",
   "execution_count": null,
   "metadata": {},
   "outputs": [],
   "source": []
  }
 ],
 "metadata": {
  "kernelspec": {
   "display_name": "Python 3.11.0 64-bit",
   "language": "python",
   "name": "python3"
  },
  "language_info": {
   "codemirror_mode": {
    "name": "ipython",
    "version": 3
   },
   "file_extension": ".py",
   "mimetype": "text/x-python",
   "name": "python",
   "nbconvert_exporter": "python",
   "pygments_lexer": "ipython3",
   "version": "3.11.0"
  },
  "orig_nbformat": 4,
  "vscode": {
   "interpreter": {
    "hash": "c2b9a9954fdc57c60aba3cd7b2ebbcfed9653792749b9e4128320be8c19325b9"
   }
  }
 },
 "nbformat": 4,
 "nbformat_minor": 2
}
